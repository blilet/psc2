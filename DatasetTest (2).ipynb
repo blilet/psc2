{
 "cells": [
  {
   "cell_type": "markdown",
   "id": "54a18d23-0072-4e55-8134-2e624dd59353",
   "metadata": {},
   "source": [
    "# Gender Bias Test Protocol"
   ]
  },
  {
   "cell_type": "markdown",
   "id": "e3fc28cc-05f6-4dcf-8a32-3c0afe188af6",
   "metadata": {},
   "source": [
    "### Creating the Dataset\n",
    "You should first execute the notebook that performs the automated labeling of the Simmons Institute playlist (under the name Simmons.ipynb) and import the corresponding JSON file into the current notebook. Once this is done, you need to transform the said JSON into a dataset. Here, I suggest converting it into CSV format (comma-separated) and then proceed with normal work. It should be noted, therefore, that the following cell is to be executed only once, and be careful to change the name if you are working with different names. You also need to create an empty CSV file and import it into the current notebook with the name 'database_SIMMONS.csv'."
   ]
  },
  {
   "cell_type": "code",
   "execution_count": 3,
   "id": "a0da07a7-0297-447d-a175-2c665d52a8e6",
   "metadata": {},
   "outputs": [],
   "source": [
    "import json\n",
    "import csv\n",
    "\n",
    "def json_to_csv_with_duration(json_file_path, csv_file_path):\n",
    "    # Load the JSON data\n",
    "    with open(json_file_path, 'r') as file:\n",
    "        data = json.load(file)\n",
    "\n",
    "    # Prepare data for CSV\n",
    "    csv_data = [['ID', 'Gender', 'Total Talk Duration', 'Total Interruption Duration', 'Number of Interruptions']]\n",
    "    for i, item in enumerate(data, start=1):\n",
    "        total_interruption_duration = sum([interruption[1] - interruption[0] for interruption in item['interruptions']])\n",
    "        total_talk_duration = item['end'] - item['start']\n",
    "        row = [i, item['gender'], total_talk_duration, total_interruption_duration, item['num_interruptions']]\n",
    "        csv_data.append(row)\n",
    "\n",
    "    # Write data to CSV\n",
    "    with open(csv_file_path, 'w', newline='') as file:\n",
    "        writer = csv.writer(file)\n",
    "        writer.writerows(csv_data)\n",
    "json_file_path = 'database_SIMMONS.json'\n",
    "csv_file_path = 'database_SIMMONS.csv'\n",
    "json_to_csv_with_duration(json_file_path, csv_file_path)        \n"
   ]
  },
  {
   "cell_type": "code",
   "execution_count": 4,
   "id": "aa9b2283-f2cc-4d4f-b4cf-3043df9512e7",
   "metadata": {},
   "outputs": [],
   "source": [
    "# Importing the relevant libraries/functions\n",
    "import pandas as pd\n",
    "import matplotlib.pyplot as plt\n",
    "import numpy as np\n",
    "# Tests \n",
    "from scipy.stats import mannwhitneyu\n",
    "from scipy.stats import chi2_contingency"
   ]
  },
  {
   "cell_type": "code",
   "execution_count": 6,
   "id": "baf65547-f252-4f3e-b10f-d23e790335c3",
   "metadata": {},
   "outputs": [
    {
     "data": {
      "text/html": [
       "<div>\n",
       "<style scoped>\n",
       "    .dataframe tbody tr th:only-of-type {\n",
       "        vertical-align: middle;\n",
       "    }\n",
       "\n",
       "    .dataframe tbody tr th {\n",
       "        vertical-align: top;\n",
       "    }\n",
       "\n",
       "    .dataframe thead th {\n",
       "        text-align: right;\n",
       "    }\n",
       "</style>\n",
       "<table border=\"1\" class=\"dataframe\">\n",
       "  <thead>\n",
       "    <tr style=\"text-align: right;\">\n",
       "      <th></th>\n",
       "      <th>Gender</th>\n",
       "      <th>Total Talk Duration</th>\n",
       "      <th>Total Interruption Duration</th>\n",
       "      <th>Number of Interruptions</th>\n",
       "    </tr>\n",
       "    <tr>\n",
       "      <th>ID</th>\n",
       "      <th></th>\n",
       "      <th></th>\n",
       "      <th></th>\n",
       "      <th></th>\n",
       "    </tr>\n",
       "  </thead>\n",
       "  <tbody>\n",
       "    <tr>\n",
       "      <th>1</th>\n",
       "      <td>M</td>\n",
       "      <td>3591</td>\n",
       "      <td>107</td>\n",
       "      <td>17</td>\n",
       "    </tr>\n",
       "    <tr>\n",
       "      <th>2</th>\n",
       "      <td>M</td>\n",
       "      <td>3194</td>\n",
       "      <td>338</td>\n",
       "      <td>42</td>\n",
       "    </tr>\n",
       "    <tr>\n",
       "      <th>3</th>\n",
       "      <td>F</td>\n",
       "      <td>3480</td>\n",
       "      <td>197</td>\n",
       "      <td>35</td>\n",
       "    </tr>\n",
       "    <tr>\n",
       "      <th>4</th>\n",
       "      <td>M</td>\n",
       "      <td>1785</td>\n",
       "      <td>0</td>\n",
       "      <td>0</td>\n",
       "    </tr>\n",
       "    <tr>\n",
       "      <th>5</th>\n",
       "      <td>U</td>\n",
       "      <td>2496</td>\n",
       "      <td>39</td>\n",
       "      <td>7</td>\n",
       "    </tr>\n",
       "    <tr>\n",
       "      <th>6</th>\n",
       "      <td>U</td>\n",
       "      <td>794</td>\n",
       "      <td>68</td>\n",
       "      <td>13</td>\n",
       "    </tr>\n",
       "    <tr>\n",
       "      <th>7</th>\n",
       "      <td>F</td>\n",
       "      <td>1767</td>\n",
       "      <td>41</td>\n",
       "      <td>8</td>\n",
       "    </tr>\n",
       "    <tr>\n",
       "      <th>8</th>\n",
       "      <td>F</td>\n",
       "      <td>2639</td>\n",
       "      <td>75</td>\n",
       "      <td>22</td>\n",
       "    </tr>\n",
       "    <tr>\n",
       "      <th>9</th>\n",
       "      <td>F</td>\n",
       "      <td>1577</td>\n",
       "      <td>23</td>\n",
       "      <td>3</td>\n",
       "    </tr>\n",
       "    <tr>\n",
       "      <th>10</th>\n",
       "      <td>M</td>\n",
       "      <td>1762</td>\n",
       "      <td>39</td>\n",
       "      <td>7</td>\n",
       "    </tr>\n",
       "  </tbody>\n",
       "</table>\n",
       "</div>"
      ],
      "text/plain": [
       "   Gender  Total Talk Duration  Total Interruption Duration  \\\n",
       "ID                                                            \n",
       "1       M                 3591                          107   \n",
       "2       M                 3194                          338   \n",
       "3       F                 3480                          197   \n",
       "4       M                 1785                            0   \n",
       "5       U                 2496                           39   \n",
       "6       U                  794                           68   \n",
       "7       F                 1767                           41   \n",
       "8       F                 2639                           75   \n",
       "9       F                 1577                           23   \n",
       "10      M                 1762                           39   \n",
       "\n",
       "    Number of Interruptions  \n",
       "ID                           \n",
       "1                        17  \n",
       "2                        42  \n",
       "3                        35  \n",
       "4                         0  \n",
       "5                         7  \n",
       "6                        13  \n",
       "7                         8  \n",
       "8                        22  \n",
       "9                         3  \n",
       "10                        7  "
      ]
     },
     "execution_count": 6,
     "metadata": {},
     "output_type": "execute_result"
    }
   ],
   "source": [
    "df=pd.read_csv('database_SIMMONS.csv', sep=',' ,index_col='ID' )\n",
    "df.head(10) "
   ]
  },
  {
   "cell_type": "code",
   "execution_count": 7,
   "id": "13cdcc7b-f2f5-45be-a934-507e8a53137f",
   "metadata": {},
   "outputs": [
    {
     "name": "stdout",
     "output_type": "stream",
     "text": [
      "<class 'pandas.core.frame.DataFrame'>\n",
      "Int64Index: 84 entries, 1 to 84\n",
      "Data columns (total 4 columns):\n",
      " #   Column                       Non-Null Count  Dtype \n",
      "---  ------                       --------------  ----- \n",
      " 0   Gender                       84 non-null     object\n",
      " 1   Total Talk Duration          84 non-null     int64 \n",
      " 2   Total Interruption Duration  84 non-null     int64 \n",
      " 3   Number of Interruptions      84 non-null     int64 \n",
      "dtypes: int64(3), object(1)\n",
      "memory usage: 3.3+ KB\n"
     ]
    }
   ],
   "source": [
    "df.info()"
   ]
  },
  {
   "cell_type": "code",
   "execution_count": 8,
   "id": "0b380d41-9464-48f3-8c34-074d4551db6a",
   "metadata": {},
   "outputs": [],
   "source": [
    "df = df[df['Gender'] != 'U'] # Since the automated labeling could not identify several genders\n",
    "#(including those of the main speaker) and left them as 'U', we remove them from the dataset."
   ]
  },
  {
   "cell_type": "code",
   "execution_count": 10,
   "id": "90e5ad6c-4094-4089-85a4-10c214a1633f",
   "metadata": {},
   "outputs": [
    {
     "data": {
      "text/html": [
       "<div>\n",
       "<style scoped>\n",
       "    .dataframe tbody tr th:only-of-type {\n",
       "        vertical-align: middle;\n",
       "    }\n",
       "\n",
       "    .dataframe tbody tr th {\n",
       "        vertical-align: top;\n",
       "    }\n",
       "\n",
       "    .dataframe thead th {\n",
       "        text-align: right;\n",
       "    }\n",
       "</style>\n",
       "<table border=\"1\" class=\"dataframe\">\n",
       "  <thead>\n",
       "    <tr style=\"text-align: right;\">\n",
       "      <th></th>\n",
       "      <th>Gender</th>\n",
       "      <th>Total Talk Duration</th>\n",
       "      <th>Total Interruption Duration</th>\n",
       "      <th>Number of Interruptions</th>\n",
       "    </tr>\n",
       "    <tr>\n",
       "      <th>ID</th>\n",
       "      <th></th>\n",
       "      <th></th>\n",
       "      <th></th>\n",
       "      <th></th>\n",
       "    </tr>\n",
       "  </thead>\n",
       "  <tbody>\n",
       "    <tr>\n",
       "      <th>1</th>\n",
       "      <td>M</td>\n",
       "      <td>3591</td>\n",
       "      <td>107</td>\n",
       "      <td>17</td>\n",
       "    </tr>\n",
       "    <tr>\n",
       "      <th>2</th>\n",
       "      <td>M</td>\n",
       "      <td>3194</td>\n",
       "      <td>338</td>\n",
       "      <td>42</td>\n",
       "    </tr>\n",
       "    <tr>\n",
       "      <th>3</th>\n",
       "      <td>F</td>\n",
       "      <td>3480</td>\n",
       "      <td>197</td>\n",
       "      <td>35</td>\n",
       "    </tr>\n",
       "    <tr>\n",
       "      <th>4</th>\n",
       "      <td>M</td>\n",
       "      <td>1785</td>\n",
       "      <td>0</td>\n",
       "      <td>0</td>\n",
       "    </tr>\n",
       "    <tr>\n",
       "      <th>7</th>\n",
       "      <td>F</td>\n",
       "      <td>1767</td>\n",
       "      <td>41</td>\n",
       "      <td>8</td>\n",
       "    </tr>\n",
       "    <tr>\n",
       "      <th>8</th>\n",
       "      <td>F</td>\n",
       "      <td>2639</td>\n",
       "      <td>75</td>\n",
       "      <td>22</td>\n",
       "    </tr>\n",
       "    <tr>\n",
       "      <th>9</th>\n",
       "      <td>F</td>\n",
       "      <td>1577</td>\n",
       "      <td>23</td>\n",
       "      <td>3</td>\n",
       "    </tr>\n",
       "    <tr>\n",
       "      <th>10</th>\n",
       "      <td>M</td>\n",
       "      <td>1762</td>\n",
       "      <td>39</td>\n",
       "      <td>7</td>\n",
       "    </tr>\n",
       "    <tr>\n",
       "      <th>13</th>\n",
       "      <td>M</td>\n",
       "      <td>1735</td>\n",
       "      <td>34</td>\n",
       "      <td>11</td>\n",
       "    </tr>\n",
       "    <tr>\n",
       "      <th>14</th>\n",
       "      <td>M</td>\n",
       "      <td>3794</td>\n",
       "      <td>103</td>\n",
       "      <td>23</td>\n",
       "    </tr>\n",
       "  </tbody>\n",
       "</table>\n",
       "</div>"
      ],
      "text/plain": [
       "   Gender  Total Talk Duration  Total Interruption Duration  \\\n",
       "ID                                                            \n",
       "1       M                 3591                          107   \n",
       "2       M                 3194                          338   \n",
       "3       F                 3480                          197   \n",
       "4       M                 1785                            0   \n",
       "7       F                 1767                           41   \n",
       "8       F                 2639                           75   \n",
       "9       F                 1577                           23   \n",
       "10      M                 1762                           39   \n",
       "13      M                 1735                           34   \n",
       "14      M                 3794                          103   \n",
       "\n",
       "    Number of Interruptions  \n",
       "ID                           \n",
       "1                        17  \n",
       "2                        42  \n",
       "3                        35  \n",
       "4                         0  \n",
       "7                         8  \n",
       "8                        22  \n",
       "9                         3  \n",
       "10                        7  \n",
       "13                       11  \n",
       "14                       23  "
      ]
     },
     "execution_count": 10,
     "metadata": {},
     "output_type": "execute_result"
    }
   ],
   "source": [
    "df.head(10)"
   ]
  },
  {
   "cell_type": "markdown",
   "id": "956899a4-f9dc-484b-baae-bf2e3e7ca9f6",
   "metadata": {},
   "source": [
    "### Adding relevant variables"
   ]
  },
  {
   "cell_type": "code",
   "execution_count": 11,
   "id": "19734298-32b8-43b8-b5e3-4c520bf31152",
   "metadata": {},
   "outputs": [],
   "source": [
    "df['Interruption frequency'] = df['Total Interruption Duration'] / df['Total Talk Duration'] # the total interruption duration\n",
    "# divided by the total talk duration, this is actually the Percentage of interruptions (If the name is misleading)"
   ]
  },
  {
   "cell_type": "code",
   "execution_count": 12,
   "id": "1f449a1d-9a06-47d3-99a3-0035bf599ab1",
   "metadata": {},
   "outputs": [],
   "source": [
    "df['Interruption frequency %']=df['Interruption frequency']*100"
   ]
  },
  {
   "cell_type": "code",
   "execution_count": 16,
   "id": "f0587987-fcdc-4128-9be2-e19d44c712d1",
   "metadata": {},
   "outputs": [],
   "source": [
    "df['AVG interruption']=df['Total Interruption Duration'] / df['Number of Interruptions'] # The average duration of an interruption\"\n",
    "df['AVG interruption'] = df['AVG interruption'].fillna(0) # for the null values "
   ]
  },
  {
   "cell_type": "code",
   "execution_count": 17,
   "id": "382f2f21-a53f-4b6a-8ee7-68d58216d93f",
   "metadata": {},
   "outputs": [
    {
     "data": {
      "text/html": [
       "<div>\n",
       "<style scoped>\n",
       "    .dataframe tbody tr th:only-of-type {\n",
       "        vertical-align: middle;\n",
       "    }\n",
       "\n",
       "    .dataframe tbody tr th {\n",
       "        vertical-align: top;\n",
       "    }\n",
       "\n",
       "    .dataframe thead th {\n",
       "        text-align: right;\n",
       "    }\n",
       "</style>\n",
       "<table border=\"1\" class=\"dataframe\">\n",
       "  <thead>\n",
       "    <tr style=\"text-align: right;\">\n",
       "      <th></th>\n",
       "      <th>Gender</th>\n",
       "      <th>Total Talk Duration</th>\n",
       "      <th>Total Interruption Duration</th>\n",
       "      <th>Number of Interruptions</th>\n",
       "      <th>Interruption frequency</th>\n",
       "      <th>Interruption frequency %</th>\n",
       "      <th>AVG interruption</th>\n",
       "    </tr>\n",
       "    <tr>\n",
       "      <th>ID</th>\n",
       "      <th></th>\n",
       "      <th></th>\n",
       "      <th></th>\n",
       "      <th></th>\n",
       "      <th></th>\n",
       "      <th></th>\n",
       "      <th></th>\n",
       "    </tr>\n",
       "  </thead>\n",
       "  <tbody>\n",
       "    <tr>\n",
       "      <th>1</th>\n",
       "      <td>M</td>\n",
       "      <td>3591</td>\n",
       "      <td>107</td>\n",
       "      <td>17</td>\n",
       "      <td>0.029797</td>\n",
       "      <td>2.979671</td>\n",
       "      <td>6.294118</td>\n",
       "    </tr>\n",
       "    <tr>\n",
       "      <th>2</th>\n",
       "      <td>M</td>\n",
       "      <td>3194</td>\n",
       "      <td>338</td>\n",
       "      <td>42</td>\n",
       "      <td>0.105823</td>\n",
       "      <td>10.582342</td>\n",
       "      <td>8.047619</td>\n",
       "    </tr>\n",
       "    <tr>\n",
       "      <th>3</th>\n",
       "      <td>F</td>\n",
       "      <td>3480</td>\n",
       "      <td>197</td>\n",
       "      <td>35</td>\n",
       "      <td>0.056609</td>\n",
       "      <td>5.660920</td>\n",
       "      <td>5.628571</td>\n",
       "    </tr>\n",
       "    <tr>\n",
       "      <th>4</th>\n",
       "      <td>M</td>\n",
       "      <td>1785</td>\n",
       "      <td>0</td>\n",
       "      <td>0</td>\n",
       "      <td>0.000000</td>\n",
       "      <td>0.000000</td>\n",
       "      <td>0.000000</td>\n",
       "    </tr>\n",
       "    <tr>\n",
       "      <th>7</th>\n",
       "      <td>F</td>\n",
       "      <td>1767</td>\n",
       "      <td>41</td>\n",
       "      <td>8</td>\n",
       "      <td>0.023203</td>\n",
       "      <td>2.320317</td>\n",
       "      <td>5.125000</td>\n",
       "    </tr>\n",
       "    <tr>\n",
       "      <th>8</th>\n",
       "      <td>F</td>\n",
       "      <td>2639</td>\n",
       "      <td>75</td>\n",
       "      <td>22</td>\n",
       "      <td>0.028420</td>\n",
       "      <td>2.841986</td>\n",
       "      <td>3.409091</td>\n",
       "    </tr>\n",
       "    <tr>\n",
       "      <th>9</th>\n",
       "      <td>F</td>\n",
       "      <td>1577</td>\n",
       "      <td>23</td>\n",
       "      <td>3</td>\n",
       "      <td>0.014585</td>\n",
       "      <td>1.458465</td>\n",
       "      <td>7.666667</td>\n",
       "    </tr>\n",
       "    <tr>\n",
       "      <th>10</th>\n",
       "      <td>M</td>\n",
       "      <td>1762</td>\n",
       "      <td>39</td>\n",
       "      <td>7</td>\n",
       "      <td>0.022134</td>\n",
       "      <td>2.213394</td>\n",
       "      <td>5.571429</td>\n",
       "    </tr>\n",
       "    <tr>\n",
       "      <th>13</th>\n",
       "      <td>M</td>\n",
       "      <td>1735</td>\n",
       "      <td>34</td>\n",
       "      <td>11</td>\n",
       "      <td>0.019597</td>\n",
       "      <td>1.959654</td>\n",
       "      <td>3.090909</td>\n",
       "    </tr>\n",
       "    <tr>\n",
       "      <th>14</th>\n",
       "      <td>M</td>\n",
       "      <td>3794</td>\n",
       "      <td>103</td>\n",
       "      <td>23</td>\n",
       "      <td>0.027148</td>\n",
       "      <td>2.714813</td>\n",
       "      <td>4.478261</td>\n",
       "    </tr>\n",
       "  </tbody>\n",
       "</table>\n",
       "</div>"
      ],
      "text/plain": [
       "   Gender  Total Talk Duration  Total Interruption Duration  \\\n",
       "ID                                                            \n",
       "1       M                 3591                          107   \n",
       "2       M                 3194                          338   \n",
       "3       F                 3480                          197   \n",
       "4       M                 1785                            0   \n",
       "7       F                 1767                           41   \n",
       "8       F                 2639                           75   \n",
       "9       F                 1577                           23   \n",
       "10      M                 1762                           39   \n",
       "13      M                 1735                           34   \n",
       "14      M                 3794                          103   \n",
       "\n",
       "    Number of Interruptions  Interruption frequency  Interruption frequency %  \\\n",
       "ID                                                                              \n",
       "1                        17                0.029797                  2.979671   \n",
       "2                        42                0.105823                 10.582342   \n",
       "3                        35                0.056609                  5.660920   \n",
       "4                         0                0.000000                  0.000000   \n",
       "7                         8                0.023203                  2.320317   \n",
       "8                        22                0.028420                  2.841986   \n",
       "9                         3                0.014585                  1.458465   \n",
       "10                        7                0.022134                  2.213394   \n",
       "13                       11                0.019597                  1.959654   \n",
       "14                       23                0.027148                  2.714813   \n",
       "\n",
       "    AVG interruption  \n",
       "ID                    \n",
       "1           6.294118  \n",
       "2           8.047619  \n",
       "3           5.628571  \n",
       "4           0.000000  \n",
       "7           5.125000  \n",
       "8           3.409091  \n",
       "9           7.666667  \n",
       "10          5.571429  \n",
       "13          3.090909  \n",
       "14          4.478261  "
      ]
     },
     "execution_count": 17,
     "metadata": {},
     "output_type": "execute_result"
    }
   ],
   "source": [
    "df.head(10)"
   ]
  },
  {
   "cell_type": "markdown",
   "id": "e842a1b6-2a24-4308-9518-ec4210e3f171",
   "metadata": {},
   "source": [
    "### Relevant Plots"
   ]
  },
  {
   "cell_type": "code",
   "execution_count": 21,
   "id": "e9cb74f6-4989-4039-9192-1c8b5d4e8e27",
   "metadata": {},
   "outputs": [
    {
     "data": {
      "image/png": "[encoded data removed]",
      "text/plain": [
       "<Figure size 640x480 with 1 Axes>"
      ]
     },
     "metadata": {},
     "output_type": "display_data"
    }
   ],
   "source": [
    "# Boxplots of distributions\n",
    "Male = df[df['Gender'] == 'M']['Number of Interruptions']\n",
    "Female = df[df['Gender'] == 'F']['Number of Interruptions']\n",
    "plt.boxplot([Male, Female], labels=['Hommes', 'Femmes'])\n",
    "\n",
    "plt.xlabel('Genre')\n",
    "plt.ylabel('Nombre d\\'interruptions')\n",
    "plt.title('Distribution des interruptions par genre (en nombre)')\n",
    "\n",
    "plt.show()"
   ]
  },
  {
   "cell_type": "code",
   "execution_count": 22,
   "id": "75ff15ff-a767-4ab7-8a59-5db02beb2d7c",
   "metadata": {},
   "outputs": [
    {
     "data": {
      "image/png": "[encoded data removed]",
      "text/plain": [
       "<Figure size 640x480 with 1 Axes>"
      ]
     },
     "metadata": {},
     "output_type": "display_data"
    }
   ],
   "source": [
    "Male_frequency = df[df['Gender'] == 'M']['Interruption frequency']\n",
    "Female_frequency = df[df['Gender'] == 'F']['Interruption frequency']\n",
    "plt.boxplot([Male_frequency, Female_frequency], labels=['Hommes', 'Femmes'])\n",
    "\n",
    "plt.xlabel('Genre')\n",
    "plt.ylabel('Fréquence d\\'interruptions')\n",
    "plt.title('Distribution des interruptions par genre (en fréquence)')\n",
    "\n",
    "plt.show()"
   ]
  },
  {
   "cell_type": "code",
   "execution_count": 24,
   "id": "e3cc9e7e-5d87-48d3-80ac-3ed76a259b1e",
   "metadata": {},
   "outputs": [
    {
     "data": {
      "image/png": "[encoded data removed]",
      "text/plain": [
       "<Figure size 640x480 with 1 Axes>"
      ]
     },
     "metadata": {},
     "output_type": "display_data"
    }
   ],
   "source": [
    "# Here, we plot the average duration of an interruption as a function of the number of interruptions. \n",
    "#The top-right quadrant signifies both a high number of interruptions and a long duration for each interruption.\n",
    "#Finding women in this quadrant would be a strong indicator of bias.\n",
    "hommes = df[df['Gender'] == 'M']\n",
    "femmes = df[df['Gender'] == 'F']\n",
    "\n",
    "plt.scatter(hommes['Number of Interruptions'], hommes['AVG interruption'], color='blue', label='Hommes')\n",
    "plt.scatter(femmes['Number of Interruptions'], femmes['AVG interruption'], color='red', label='Femmes')\n",
    "\n",
    "plt.xlabel('Nombre d\\'interruptions')\n",
    "plt.ylabel('Fréquence des interruptions')\n",
    "plt.title('Nuage de points : Nombre d\\'interruptions vs durée moyenne des interruptions par genre')\n",
    "\n",
    "plt.legend()\n",
    "plt.show()"
   ]
  },
  {
   "cell_type": "markdown",
   "id": "216f7393-5a62-4737-adda-37551dac7ee2",
   "metadata": {},
   "source": [
    "Looking at the boxplots, it is evident that the median of the data for females is higher than that for males. In other words, the median values of the observations for females are generally larger than those for males. This could indicate significant differences in the distribution of the data between the two populations, particularly regarding the central tendency of the observations.\n",
    "The second plot doesn't allow us to conclude much. "
   ]
  },
  {
   "cell_type": "markdown",
   "id": "048ab1be-fbc1-49af-a26b-b60f4941d754",
   "metadata": {},
   "source": [
    "### Test de MannWhitney "
   ]
  },
  {
   "cell_type": "code",
   "execution_count": 27,
   "id": "04cdfa8e-99c7-4162-a868-b5d6f99c9741",
   "metadata": {},
   "outputs": [],
   "source": [
    "# Test avec le nombre d'interruptiosn \n",
    "statistic, p_value = mannwhitneyu(Male, Female)"
   ]
  },
  {
   "cell_type": "code",
   "execution_count": 26,
   "id": "2f45be64-0801-4278-b13d-b09ac841c0b8",
   "metadata": {},
   "outputs": [
    {
     "name": "stdout",
     "output_type": "stream",
     "text": [
      "Statistique de test de Mann-Whitney : 426.0\n",
      "p-Valeur associée : 0.37275856444269795\n"
     ]
    }
   ],
   "source": [
    "print(\"Statistique de test de Mann-Whitney :\", statistic)\n",
    "print(\"p-Valeur associée :\", p_value)"
   ]
  },
  {
   "cell_type": "code",
   "execution_count": 29,
   "id": "fc1377d7-32fc-4238-8db6-5e4450bfab97",
   "metadata": {},
   "outputs": [],
   "source": [
    "# Test avec la fréquence d'interruptions \n",
    "statistic_frequency, p_value_frequency = mannwhitneyu(Male_frequency, Female_frequency)"
   ]
  },
  {
   "cell_type": "code",
   "execution_count": 30,
   "id": "a5adf748-fe5a-45fe-9fb6-d15f1c9fed2c",
   "metadata": {},
   "outputs": [
    {
     "name": "stdout",
     "output_type": "stream",
     "text": [
      "Statistique de test de Mann-Whitney : 418.0\n",
      "p-Valeur associée : 0.31745052451001465\n"
     ]
    }
   ],
   "source": [
    "print(\"Statistique de test de Mann-Whitney :\", statistic_frequency)\n",
    "print(\"p-Valeur associée :\", p_value_frequency)"
   ]
  },
  {
   "cell_type": "markdown",
   "id": "99063e4a-f94f-4f1c-b754-1777f30d1427",
   "metadata": {},
   "source": [
    "### Test du Chi-2"
   ]
  },
  {
   "cell_type": "markdown",
   "id": "b801d134-7299-43c4-ac82-534416091234",
   "metadata": {},
   "source": [
    "For this test, we need a contingency table that cross-tabulates the gender of the main speaker with the interruption frequency, but in categories. Defining category intervals when conducting a statistical study about which we have no prior knowledge is arbitrary; therefore, we opt for categorization based on quartiles of the distribution. However, this approach may be somewhat flawed, especially if the data points are very close to each other."
   ]
  },
  {
   "cell_type": "code",
   "execution_count": 32,
   "id": "6867871e-63f1-4f78-8570-84854b5f444a",
   "metadata": {},
   "outputs": [],
   "source": [
    " df['Var_categorielles']=pd.qcut(df['Interruption frequency'], 4, labels=['1','2','3','4']) # Defining Category intervals "
   ]
  },
  {
   "cell_type": "code",
   "execution_count": 35,
   "id": "dea0c918-681b-4d9b-94f9-46a64852e8af",
   "metadata": {},
   "outputs": [
    {
     "name": "stdout",
     "output_type": "stream",
     "text": [
      "Var_categorielles   1  2  3  4\n",
      "Gender                        \n",
      "F                   3  7  7  7\n",
      "M                  14  9  9  9\n"
     ]
    }
   ],
   "source": [
    "# Test avec la fréquence d'interruptions\n",
    "contingency_table = pd.crosstab(df['Gender'], df['Var_categorielles'])\n",
    "\n",
    "print(contingency_table)"
   ]
  },
  {
   "cell_type": "code",
   "execution_count": 36,
   "id": "a5ae6d43-5946-4478-92e0-3f70599652dd",
   "metadata": {},
   "outputs": [
    {
     "name": "stdout",
     "output_type": "stream",
     "text": [
      "Valeur de chi carré : 3.6727156563845047\n",
      "p valeur associée : 0.2990426088845146\n",
      "Degrés de liberté : 3\n"
     ]
    }
   ],
   "source": [
    "chi2, p_value, dof, expected = chi2_contingency(contingency_table)\n",
    "print(\"Valeur de chi carré :\", chi2)\n",
    "print(\"p valeur associée :\", p_value)\n",
    "print(\"Degrés de liberté :\", dof)"
   ]
  },
  {
   "cell_type": "code",
   "execution_count": 37,
   "id": "7864a5b8-17a8-48a4-b1a6-c94295124637",
   "metadata": {},
   "outputs": [],
   "source": [
    "df['Var_categorielles_nombre']=pd.qcut(df['Number of Interruptions'], 4, labels=['1_n','2_n','3_n','4_n'])"
   ]
  },
  {
   "cell_type": "code",
   "execution_count": 38,
   "id": "0d3792a5-5193-4725-b1ad-f4eaee4351f1",
   "metadata": {},
   "outputs": [
    {
     "name": "stdout",
     "output_type": "stream",
     "text": [
      "Var_categorielles_nombre  1_n  2_n  3_n  4_n\n",
      "Gender                                      \n",
      "F                           6    5    5    8\n",
      "M                          11   11   11    8\n"
     ]
    }
   ],
   "source": [
    "# Test avec le nombre d'interruptions \n",
    "contingency_table_freq = pd.crosstab(df['Gender'], df['Var_categorielles_nombre'])\n",
    "\n",
    "print(contingency_table_freq)"
   ]
  },
  {
   "cell_type": "code",
   "execution_count": 39,
   "id": "b0b34b84-6347-47ef-a94a-0de47c1be8b0",
   "metadata": {},
   "outputs": [
    {
     "name": "stdout",
     "output_type": "stream",
     "text": [
      "Valeur de chi carré : 1.6363656743185078\n",
      "p valeur associée : 0.6511725437718963\n",
      "Degrés de liberté : 3\n"
     ]
    }
   ],
   "source": [
    "chi2_freq, p_value_freq, dof_freq, expected_freq = chi2_contingency(contingency_table_freq)\n",
    "print(\"Valeur de chi carré :\", chi2_freq)\n",
    "print(\"p valeur associée :\", p_value_freq)\n",
    "print(\"Degrés de liberté :\", dof_freq)"
   ]
  },
  {
   "cell_type": "markdown",
   "id": "310f31f6-2d17-4412-b50b-6fbeb21ec36b",
   "metadata": {},
   "source": [
    "Rappels : La valeur de chi carré mesure l'écart entre les fréquences observées et les fréquences attendues sous l'hypothèse nulle. Plus la valeur de chi carré est élevée, plus il est improbable que les différences observées soient dues au hasard.\n",
    "\n",
    "La p-valeur mesure la probabilité d'observer des résultats aussi extrêmes que ceux observés si l'hypothèse nulle (pas de différence entre les groupes) est vraie. Si la p-valeur est inférieure à un seuil prédéfini (généralement 0.05), on rejette l'hypothèse nulle en faveur de l'hypothèse alternative (il y a une différence significative entre les groupes).\n",
    "\n",
    "On conclut en raison des p-valeurs élevées observées qu'il n'y a pas de différence significative entre les groupes en termes de fréquence d'interruption pour les deux tests. Cela signifie que, selon ces tests, il n'y a pas de preuve statistique d'un biais de genre dans les interruptions lors des conférences, en tenant compte des considérations et des tests effectués."
   ]
  },
  {
   "cell_type": "markdown",
   "id": "e3d9cda7-1f4e-4189-8cb4-0c029a4a8613",
   "metadata": {},
   "source": [
    "### Conclusion \n",
    "L'échnatillon étant très petit (encore trop petit après avoir enlevé les Undefined), on ne peut donc pas encore parler d'un vrai test statistique. Quoique, le squelette de ce qu'il faut faire est là il faudra juste l'appliquer une fois on a plus de données. Dans une première approche on s'est pas intéressée au genre de la personne qui interrompt (aussi l'on avait pas cette info sur ce dataset), notre prochaine étape serait de définir le test pour prendre cela en considération"
   ]
  }
 ],
 "metadata": {
  "kernelspec": {
   "display_name": "Python 3 (ipykernel)",
   "language": "python",
   "name": "python3"
  },
  "language_info": {
   "codemirror_mode": {
    "name": "ipython",
    "version": 3
   },
   "file_extension": ".py",
   "mimetype": "text/x-python",
   "name": "python",
   "nbconvert_exporter": "python",
   "pygments_lexer": "ipython3",
   "version": "3.10.6"
  }
 },
 "nbformat": 4,
 "nbformat_minor": 5
}
