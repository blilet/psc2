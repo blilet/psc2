{
 "cells": [
  {
   "cell_type": "markdown",
   "id": "54a18d23-0072-4e55-8134-2e624dd59353",
   "metadata": {},
   "source": [
    "# Gender Bias Test Protocol"
   ]
  },
  {
   "cell_type": "code",
   "execution_count": 186,
   "id": "6628d0f3-276f-4d0e-b312-99d071df8258",
   "metadata": {},
   "outputs": [
    {
     "name": "stdout",
     "output_type": "stream",
     "text": [
      "Requirement already satisfied: tabulate in /Users/ossamafaraji/anaconda3/lib/python3.11/site-packages (0.8.10)\n"
     ]
    }
   ],
   "source": [
    "!pip install tabulate"
   ]
  },
  {
   "cell_type": "code",
   "execution_count": 187,
   "metadata": {},
   "outputs": [],
   "source": [
    "import pandas as pd\n",
    "import matplotlib.pyplot as plt\n",
    "import numpy as np\n",
    "from scipy.stats import mannwhitneyu\n",
    "from scipy.stats import chi2_contingency"
   ]
  },
  {
   "cell_type": "markdown",
   "id": "e3fc28cc-05f6-4dcf-8a32-3c0afe188af6",
   "metadata": {},
   "source": [
    "### Creating the Dataset\n",
    "You should first execute the notebook that performs the automated labeling of the Simmons Institute playlist (under the name Simmons.ipynb) and import the corresponding JSON file into the current notebook. Once this is done, you need to transform the said JSON into a dataset. Here, I suggest converting it into CSV format (comma-separated) and then proceed with normal work. It should be noted, therefore, that the following cell is to be executed only once, and be careful to change the name if you are working with different names. You also need to create an empty CSV file and import it into the current notebook with the name 'database_SIMMONS.csv'."
   ]
  },
  {
   "cell_type": "code",
   "execution_count": 188,
   "id": "a0da07a7-0297-447d-a175-2c665d52a8e6",
   "metadata": {},
   "outputs": [],
   "source": [
    "import json\n",
    "import csv\n",
    "\n",
    "def json_to_csv_with_duration(json_file_path, csv_file_path):\n",
    "    with open(json_file_path, 'r') as file:\n",
    "        data = json.load(file)\n",
    "    csv_data = [['ID','Title' ,'Gender', 'Total Talk Duration','Total Talk Duration in min', 'Total Interruption Duration','Total Interruption Duration in min', 'Number of Interruptions',\n",
    "                 'Total Interruption Duration (M)', 'Total Interruption Duration (F)', 'Number of Interruptions (M)',\n",
    "                 'Number of Interruptions (F)']]\n",
    "    \n",
    "    total_interruption_duration_m = 0\n",
    "    total_interruption_duration_f = 0\n",
    "    num_interruptions_m = 0\n",
    "    num_interruptions_f = 0\n",
    "\n",
    "    for i, item in enumerate(data, start=1):\n",
    "        total_interruption_duration = sum([interruption[1] - interruption[0] for interruption in item['interruptions']])\n",
    "        total_talk_duration = item['end'] - item['start']\n",
    "        interruption_duration_m = 0\n",
    "        interruption_duration_f = 0\n",
    "        interruptions_m = 0\n",
    "        interruptions_f = 0\n",
    "        for interruption in item['interruptions']:\n",
    "            if interruption[2] == 'M':\n",
    "                interruption_duration_m += interruption[1] - interruption[0]\n",
    "                interruptions_m += 1\n",
    "            else :\n",
    "                interruption_duration_f += interruption[1] - interruption[0]\n",
    "                interruptions_f += 1\n",
    "        total_interruption_duration_m += interruption_duration_m\n",
    "        total_interruption_duration_f += interruption_duration_f\n",
    "        num_interruptions_m += interruptions_m\n",
    "        num_interruptions_f += interruptions_f\n",
    "\n",
    "        row = [i, item['path'][0],item['gender'], total_talk_duration,total_talk_duration/60, total_interruption_duration,\n",
    "               total_interruption_duration/60,item['num_interruptions'], interruption_duration_m, interruption_duration_f,\n",
    "               interruptions_m, interruptions_f]\n",
    "        csv_data.append(row)\n",
    "    with open(csv_file_path, 'w', newline='') as file:\n",
    "        writer = csv.writer(file)\n",
    "        writer.writerows(csv_data)\n",
    "\n",
    "json_file_path = '/Users/ossamafaraji/Desktop/PLEASEBEFINAL.json'\n",
    "csv_file_path = '/Users/ossamafaraji/Desktop/Dataset.csv'\n",
    "json_to_csv_with_duration(json_file_path, csv_file_path)"
   ]
  },
  {
   "cell_type": "code",
   "execution_count": 189,
   "id": "baf65547-f252-4f3e-b10f-d23e790335c3",
   "metadata": {},
   "outputs": [
    {
     "data": {
      "text/html": [
       "<div>\n",
       "<style scoped>\n",
       "    .dataframe tbody tr th:only-of-type {\n",
       "        vertical-align: middle;\n",
       "    }\n",
       "\n",
       "    .dataframe tbody tr th {\n",
       "        vertical-align: top;\n",
       "    }\n",
       "\n",
       "    .dataframe thead th {\n",
       "        text-align: right;\n",
       "    }\n",
       "</style>\n",
       "<table border=\"1\" class=\"dataframe\">\n",
       "  <thead>\n",
       "    <tr style=\"text-align: right;\">\n",
       "      <th></th>\n",
       "      <th>Title</th>\n",
       "      <th>Gender</th>\n",
       "      <th>Total Talk Duration</th>\n",
       "      <th>Total Talk Duration in min</th>\n",
       "      <th>Total Interruption Duration</th>\n",
       "      <th>Total Interruption Duration in min</th>\n",
       "      <th>Number of Interruptions</th>\n",
       "      <th>Total Interruption Duration (M)</th>\n",
       "      <th>Total Interruption Duration (F)</th>\n",
       "      <th>Number of Interruptions (M)</th>\n",
       "      <th>Number of Interruptions (F)</th>\n",
       "    </tr>\n",
       "    <tr>\n",
       "      <th>ID</th>\n",
       "      <th></th>\n",
       "      <th></th>\n",
       "      <th></th>\n",
       "      <th></th>\n",
       "      <th></th>\n",
       "      <th></th>\n",
       "      <th></th>\n",
       "      <th></th>\n",
       "      <th></th>\n",
       "      <th></th>\n",
       "      <th></th>\n",
       "    </tr>\n",
       "  </thead>\n",
       "  <tbody>\n",
       "    <tr>\n",
       "      <th>1</th>\n",
       "      <td>Locality II</td>\n",
       "      <td>F</td>\n",
       "      <td>2639.0</td>\n",
       "      <td>43.983333</td>\n",
       "      <td>61</td>\n",
       "      <td>1.016667</td>\n",
       "      <td>11</td>\n",
       "      <td>61</td>\n",
       "      <td>0</td>\n",
       "      <td>11</td>\n",
       "      <td>0</td>\n",
       "    </tr>\n",
       "    <tr>\n",
       "      <th>2</th>\n",
       "      <td>Probabilistic and Cominatorial Methods III</td>\n",
       "      <td>M</td>\n",
       "      <td>3794.0</td>\n",
       "      <td>63.233333</td>\n",
       "      <td>92</td>\n",
       "      <td>1.533333</td>\n",
       "      <td>14</td>\n",
       "      <td>92</td>\n",
       "      <td>0</td>\n",
       "      <td>14</td>\n",
       "      <td>0</td>\n",
       "    </tr>\n",
       "    <tr>\n",
       "      <th>3</th>\n",
       "      <td>Quantum LDPC Codes II</td>\n",
       "      <td>M</td>\n",
       "      <td>3635.0</td>\n",
       "      <td>60.583333</td>\n",
       "      <td>265</td>\n",
       "      <td>4.416667</td>\n",
       "      <td>40</td>\n",
       "      <td>265</td>\n",
       "      <td>0</td>\n",
       "      <td>40</td>\n",
       "      <td>0</td>\n",
       "    </tr>\n",
       "    <tr>\n",
       "      <th>4</th>\n",
       "      <td>Algebraic Codes/Algorithms I</td>\n",
       "      <td>F</td>\n",
       "      <td>3695.0</td>\n",
       "      <td>61.583333</td>\n",
       "      <td>102</td>\n",
       "      <td>1.700000</td>\n",
       "      <td>15</td>\n",
       "      <td>102</td>\n",
       "      <td>0</td>\n",
       "      <td>15</td>\n",
       "      <td>0</td>\n",
       "    </tr>\n",
       "    <tr>\n",
       "      <th>5</th>\n",
       "      <td>Probabilistic and Cominatorial Methods II</td>\n",
       "      <td>M</td>\n",
       "      <td>3541.0</td>\n",
       "      <td>59.016667</td>\n",
       "      <td>19</td>\n",
       "      <td>0.316667</td>\n",
       "      <td>4</td>\n",
       "      <td>19</td>\n",
       "      <td>0</td>\n",
       "      <td>4</td>\n",
       "      <td>0</td>\n",
       "    </tr>\n",
       "    <tr>\n",
       "      <th>6</th>\n",
       "      <td>Recent Advances in LTCs</td>\n",
       "      <td>M</td>\n",
       "      <td>4014.0</td>\n",
       "      <td>66.900000</td>\n",
       "      <td>93</td>\n",
       "      <td>1.550000</td>\n",
       "      <td>7</td>\n",
       "      <td>93</td>\n",
       "      <td>0</td>\n",
       "      <td>7</td>\n",
       "      <td>0</td>\n",
       "    </tr>\n",
       "    <tr>\n",
       "      <th>7</th>\n",
       "      <td>Polar Codes</td>\n",
       "      <td>M</td>\n",
       "      <td>2496.0</td>\n",
       "      <td>41.600000</td>\n",
       "      <td>39</td>\n",
       "      <td>0.650000</td>\n",
       "      <td>6</td>\n",
       "      <td>39</td>\n",
       "      <td>0</td>\n",
       "      <td>6</td>\n",
       "      <td>0</td>\n",
       "    </tr>\n",
       "    <tr>\n",
       "      <th>8</th>\n",
       "      <td>Intro to Quantum Codes</td>\n",
       "      <td>M</td>\n",
       "      <td>3925.0</td>\n",
       "      <td>65.416667</td>\n",
       "      <td>96</td>\n",
       "      <td>1.600000</td>\n",
       "      <td>16</td>\n",
       "      <td>93</td>\n",
       "      <td>3</td>\n",
       "      <td>15</td>\n",
       "      <td>1</td>\n",
       "    </tr>\n",
       "    <tr>\n",
       "      <th>9</th>\n",
       "      <td>Polar Codes II</td>\n",
       "      <td>M</td>\n",
       "      <td>3294.0</td>\n",
       "      <td>54.900000</td>\n",
       "      <td>69</td>\n",
       "      <td>1.150000</td>\n",
       "      <td>12</td>\n",
       "      <td>69</td>\n",
       "      <td>0</td>\n",
       "      <td>12</td>\n",
       "      <td>0</td>\n",
       "    </tr>\n",
       "    <tr>\n",
       "      <th>10</th>\n",
       "      <td>Algebraic Codes/Algorithms II</td>\n",
       "      <td>F</td>\n",
       "      <td>2176.0</td>\n",
       "      <td>36.266667</td>\n",
       "      <td>106</td>\n",
       "      <td>1.766667</td>\n",
       "      <td>10</td>\n",
       "      <td>97</td>\n",
       "      <td>9</td>\n",
       "      <td>9</td>\n",
       "      <td>1</td>\n",
       "    </tr>\n",
       "  </tbody>\n",
       "</table>\n",
       "</div>"
      ],
      "text/plain": [
       "                                         Title Gender  Total Talk Duration  \\\n",
       "ID                                                                           \n",
       "1                                  Locality II      F               2639.0   \n",
       "2   Probabilistic and Cominatorial Methods III      M               3794.0   \n",
       "3                        Quantum LDPC Codes II      M               3635.0   \n",
       "4                 Algebraic Codes/Algorithms I      F               3695.0   \n",
       "5    Probabilistic and Cominatorial Methods II      M               3541.0   \n",
       "6                      Recent Advances in LTCs      M               4014.0   \n",
       "7                                  Polar Codes      M               2496.0   \n",
       "8                       Intro to Quantum Codes      M               3925.0   \n",
       "9                               Polar Codes II      M               3294.0   \n",
       "10               Algebraic Codes/Algorithms II      F               2176.0   \n",
       "\n",
       "    Total Talk Duration in min  Total Interruption Duration  \\\n",
       "ID                                                            \n",
       "1                    43.983333                           61   \n",
       "2                    63.233333                           92   \n",
       "3                    60.583333                          265   \n",
       "4                    61.583333                          102   \n",
       "5                    59.016667                           19   \n",
       "6                    66.900000                           93   \n",
       "7                    41.600000                           39   \n",
       "8                    65.416667                           96   \n",
       "9                    54.900000                           69   \n",
       "10                   36.266667                          106   \n",
       "\n",
       "    Total Interruption Duration in min  Number of Interruptions  \\\n",
       "ID                                                                \n",
       "1                             1.016667                       11   \n",
       "2                             1.533333                       14   \n",
       "3                             4.416667                       40   \n",
       "4                             1.700000                       15   \n",
       "5                             0.316667                        4   \n",
       "6                             1.550000                        7   \n",
       "7                             0.650000                        6   \n",
       "8                             1.600000                       16   \n",
       "9                             1.150000                       12   \n",
       "10                            1.766667                       10   \n",
       "\n",
       "    Total Interruption Duration (M)  Total Interruption Duration (F)  \\\n",
       "ID                                                                     \n",
       "1                                61                                0   \n",
       "2                                92                                0   \n",
       "3                               265                                0   \n",
       "4                               102                                0   \n",
       "5                                19                                0   \n",
       "6                                93                                0   \n",
       "7                                39                                0   \n",
       "8                                93                                3   \n",
       "9                                69                                0   \n",
       "10                               97                                9   \n",
       "\n",
       "    Number of Interruptions (M)  Number of Interruptions (F)  \n",
       "ID                                                            \n",
       "1                            11                            0  \n",
       "2                            14                            0  \n",
       "3                            40                            0  \n",
       "4                            15                            0  \n",
       "5                             4                            0  \n",
       "6                             7                            0  \n",
       "7                             6                            0  \n",
       "8                            15                            1  \n",
       "9                            12                            0  \n",
       "10                            9                            1  "
      ]
     },
     "execution_count": 189,
     "metadata": {},
     "output_type": "execute_result"
    }
   ],
   "source": [
    "df=pd.read_csv('/Users/ossamafaraji/Desktop/Dataset.csv', sep=',' ,index_col='ID' )\n",
    "df.drop(df[df['Number of Interruptions'] > 100].index, inplace = True)\n",
    "df.head(10) "
   ]
  },
  {
   "cell_type": "code",
   "execution_count": 190,
   "id": "13cdcc7b-f2f5-45be-a934-507e8a53137f",
   "metadata": {},
   "outputs": [
    {
     "name": "stdout",
     "output_type": "stream",
     "text": [
      "<class 'pandas.core.frame.DataFrame'>\n",
      "Int64Index: 609 entries, 1 to 656\n",
      "Data columns (total 11 columns):\n",
      " #   Column                              Non-Null Count  Dtype  \n",
      "---  ------                              --------------  -----  \n",
      " 0   Title                               609 non-null    object \n",
      " 1   Gender                              609 non-null    object \n",
      " 2   Total Talk Duration                 609 non-null    float64\n",
      " 3   Total Talk Duration in min          609 non-null    float64\n",
      " 4   Total Interruption Duration         609 non-null    int64  \n",
      " 5   Total Interruption Duration in min  609 non-null    float64\n",
      " 6   Number of Interruptions             609 non-null    int64  \n",
      " 7   Total Interruption Duration (M)     609 non-null    int64  \n",
      " 8   Total Interruption Duration (F)     609 non-null    int64  \n",
      " 9   Number of Interruptions (M)         609 non-null    int64  \n",
      " 10  Number of Interruptions (F)         609 non-null    int64  \n",
      "dtypes: float64(3), int64(6), object(2)\n",
      "memory usage: 57.1+ KB\n"
     ]
    }
   ],
   "source": [
    "df.info()"
   ]
  },
  {
   "cell_type": "code",
   "execution_count": 191,
   "id": "5c9b00c6-8ac9-4feb-8088-bc3043cca24c",
   "metadata": {},
   "outputs": [
    {
     "name": "stdout",
     "output_type": "stream",
     "text": [
      "Nombre total des conférences  563\n"
     ]
    },
    {
     "data": {
      "image/png": "[encoded data removed]",
      "text/plain": [
       "<Figure size 576x576 with 1 Axes>"
      ]
     },
     "metadata": {},
     "output_type": "display_data"
    }
   ],
   "source": [
    "import matplotlib.pyplot as plt\n",
    "videos_by_university = {}\n",
    "\n",
    "with open('/Users/ossamafaraji/Downloads/Uni_origine.txt', 'r') as file:\n",
    "    for line in file:\n",
    "        last_space_index = line.rfind(' ')\n",
    "        university = line[:last_space_index].strip()\n",
    "        num_videos = int(line[last_space_index:].strip())\n",
    "        videos_by_university[university] = videos_by_university.get(university, 0) + num_videos\n",
    "total_videos = sum(videos_by_university.values())\n",
    "print(\"Nombre total des conférences \", total_videos)\n",
    "percentages = {university: (num_videos / total_videos) * 100 for university, num_videos in videos_by_university.items()}\n",
    "plt.figure(figsize=(8, 8))\n",
    "plt.pie(percentages.values(), labels=percentages.keys(), autopct='%1.1f%%', startangle=140)\n",
    "plt.title('Répartition des vidéos par université')\n",
    "plt.show()"
   ]
  },
  {
   "cell_type": "code",
   "execution_count": 192,
   "id": "b8808bcd-8a7d-4833-b4de-05ad56ea365c",
   "metadata": {},
   "outputs": [
    {
     "data": {
      "image/png": "[encoded data removed]",
      "text/plain": [
       "<Figure size 720x432 with 1 Axes>"
      ]
     },
     "metadata": {
      "needs_background": "light"
     },
     "output_type": "display_data"
    }
   ],
   "source": [
    "plt.figure(figsize=(10, 6))\n",
    "plt.hist(df['Total Talk Duration in min'], bins=30, density=True, color='skyblue', alpha=0.7)\n",
    "plt.title('Histogramme en Densité de la Durée Totale des Conférences')\n",
    "plt.xlabel('Durée Totale de la Conférence')\n",
    "plt.ylabel('Densité')\n",
    "plt.grid(True)\n",
    "plt.show()"
   ]
  },
  {
   "cell_type": "markdown",
   "id": "956899a4-f9dc-484b-baae-bf2e3e7ca9f6",
   "metadata": {},
   "source": [
    "### Adding relevant variables"
   ]
  },
  {
   "cell_type": "code",
   "execution_count": 195,
   "id": "0ba05c85-97d7-403b-a6e9-2afe5b3d8799",
   "metadata": {},
   "outputs": [
    {
     "data": {
      "image/png": "[encoded data removed]",
      "text/plain": [
       "<Figure size 720x432 with 1 Axes>"
      ]
     },
     "metadata": {
      "needs_background": "light"
     },
     "output_type": "display_data"
    }
   ],
   "source": [
    "# Élimination des valeurs aberrantes\n",
    "Q1 = df['Number of Interruptions'].quantile(0.25)\n",
    "Q3 = df['Number of Interruptions'].quantile(0.75)\n",
    "IQR = Q3 - Q1\n",
    "lower_bound = Q1 - 1.5 * IQR\n",
    "upper_bound = Q3 + 1.5 * IQR\n",
    "\n",
    "df_filtered = df[(df['Number of Interruptions'] >= lower_bound) & (df['Number of Interruptions'] <= upper_bound)]\n",
    "\n",
    "df_male = df_filtered[df_filtered['Gender'] == 'M']\n",
    "df_female = df_filtered[df_filtered['Gender'] == 'F']\n",
    "\n",
    "plt.figure(figsize=(10, 6))\n",
    "plt.scatter(df_male['Total Talk Duration'], df_male['Number of Interruptions'], color='blue', alpha=0.5, label='Homme')\n",
    "\n",
    "plt.scatter(df_female['Total Talk Duration'], df_female['Number of Interruptions'], color='red', alpha=0.5, label='Femme')\n",
    "\n",
    "plt.title('Nombre d\\'Interruptions vs Durée Totale de la Conférence')\n",
    "plt.xlabel('Durée Totale de la Conférence')\n",
    "plt.ylabel('Nombre d\\'Interruptions')\n",
    "plt.grid(True)\n",
    "plt.legend()\n",
    "plt.show()"
   ]
  },
  {
   "cell_type": "markdown",
   "id": "eec256bd",
   "metadata": {},
   "source": [
    "#### La durée totale de la conférence influence-t-elle le nombre d'interruptions ?"
   ]
  },
  {
   "cell_type": "code",
   "execution_count": 196,
   "id": "46945378-5ab4-4742-8f70-769c896c3743",
   "metadata": {},
   "outputs": [
    {
     "name": "stderr",
     "output_type": "stream",
     "text": [
      "<ipython-input-196-935c2e534e54>:1: FutureWarning: The default value of numeric_only in DataFrame.corr is deprecated. In a future version, it will default to False. Select only valid columns or specify the value of numeric_only to silence this warning.\n",
      "  corr = df.corr()\n"
     ]
    },
    {
     "data": {
      "text/html": [
       "<style type=\"text/css\">\n",
       "#T_b1637_row0_col0, #T_b1637_row0_col1, #T_b1637_row1_col0, #T_b1637_row1_col1, #T_b1637_row2_col2, #T_b1637_row2_col3, #T_b1637_row3_col2, #T_b1637_row3_col3, #T_b1637_row4_col4, #T_b1637_row5_col5, #T_b1637_row6_col6, #T_b1637_row7_col7, #T_b1637_row8_col8 {\n",
       "  background-color: #b40426;\n",
       "  color: #f1f1f1;\n",
       "}\n",
       "#T_b1637_row0_col2, #T_b1637_row0_col3, #T_b1637_row0_col4, #T_b1637_row0_col5, #T_b1637_row0_col6, #T_b1637_row0_col7, #T_b1637_row0_col8, #T_b1637_row1_col2, #T_b1637_row1_col3, #T_b1637_row1_col4, #T_b1637_row1_col5, #T_b1637_row1_col6, #T_b1637_row1_col7, #T_b1637_row1_col8, #T_b1637_row6_col0, #T_b1637_row6_col1 {\n",
       "  background-color: #3b4cc0;\n",
       "  color: #f1f1f1;\n",
       "}\n",
       "#T_b1637_row2_col0, #T_b1637_row2_col1, #T_b1637_row3_col0, #T_b1637_row3_col1 {\n",
       "  background-color: #6180e9;\n",
       "  color: #f1f1f1;\n",
       "}\n",
       "#T_b1637_row2_col4, #T_b1637_row3_col4 {\n",
       "  background-color: #f29274;\n",
       "  color: #f1f1f1;\n",
       "}\n",
       "#T_b1637_row2_col5, #T_b1637_row3_col5 {\n",
       "  background-color: #dc5d4a;\n",
       "  color: #f1f1f1;\n",
       "}\n",
       "#T_b1637_row2_col6, #T_b1637_row3_col6 {\n",
       "  background-color: #f08b6e;\n",
       "  color: #f1f1f1;\n",
       "}\n",
       "#T_b1637_row2_col7, #T_b1637_row3_col7 {\n",
       "  background-color: #e8d6cc;\n",
       "  color: #000000;\n",
       "}\n",
       "#T_b1637_row2_col8, #T_b1637_row3_col8 {\n",
       "  background-color: #f7bca1;\n",
       "  color: #000000;\n",
       "}\n",
       "#T_b1637_row4_col0, #T_b1637_row4_col1 {\n",
       "  background-color: #7597f6;\n",
       "  color: #f1f1f1;\n",
       "}\n",
       "#T_b1637_row4_col2, #T_b1637_row4_col3 {\n",
       "  background-color: #f18d6f;\n",
       "  color: #f1f1f1;\n",
       "}\n",
       "#T_b1637_row4_col5 {\n",
       "  background-color: #f7b599;\n",
       "  color: #000000;\n",
       "}\n",
       "#T_b1637_row4_col6, #T_b1637_row5_col7, #T_b1637_row8_col2, #T_b1637_row8_col3 {\n",
       "  background-color: #f5c2aa;\n",
       "  color: #000000;\n",
       "}\n",
       "#T_b1637_row4_col7 {\n",
       "  background-color: #e57058;\n",
       "  color: #f1f1f1;\n",
       "}\n",
       "#T_b1637_row4_col8 {\n",
       "  background-color: #f7af91;\n",
       "  color: #000000;\n",
       "}\n",
       "#T_b1637_row5_col0, #T_b1637_row5_col1 {\n",
       "  background-color: #7295f4;\n",
       "  color: #f1f1f1;\n",
       "}\n",
       "#T_b1637_row5_col2, #T_b1637_row5_col3 {\n",
       "  background-color: #d95847;\n",
       "  color: #f1f1f1;\n",
       "}\n",
       "#T_b1637_row5_col4 {\n",
       "  background-color: #f7b79b;\n",
       "  color: #000000;\n",
       "}\n",
       "#T_b1637_row5_col6 {\n",
       "  background-color: #cbd8ee;\n",
       "  color: #000000;\n",
       "}\n",
       "#T_b1637_row5_col8 {\n",
       "  background-color: #bad0f8;\n",
       "  color: #000000;\n",
       "}\n",
       "#T_b1637_row6_col2, #T_b1637_row6_col3 {\n",
       "  background-color: #f4987a;\n",
       "  color: #000000;\n",
       "}\n",
       "#T_b1637_row6_col4 {\n",
       "  background-color: #e9d5cb;\n",
       "  color: #000000;\n",
       "}\n",
       "#T_b1637_row6_col5 {\n",
       "  background-color: #a5c3fe;\n",
       "  color: #000000;\n",
       "}\n",
       "#T_b1637_row6_col7 {\n",
       "  background-color: #6384eb;\n",
       "  color: #f1f1f1;\n",
       "}\n",
       "#T_b1637_row6_col8 {\n",
       "  background-color: #ef886b;\n",
       "  color: #f1f1f1;\n",
       "}\n",
       "#T_b1637_row7_col0, #T_b1637_row7_col1 {\n",
       "  background-color: #7a9df8;\n",
       "  color: #f1f1f1;\n",
       "}\n",
       "#T_b1637_row7_col2, #T_b1637_row7_col3 {\n",
       "  background-color: #efcebd;\n",
       "  color: #000000;\n",
       "}\n",
       "#T_b1637_row7_col4 {\n",
       "  background-color: #e46e56;\n",
       "  color: #f1f1f1;\n",
       "}\n",
       "#T_b1637_row7_col5 {\n",
       "  background-color: #f6bfa6;\n",
       "  color: #000000;\n",
       "}\n",
       "#T_b1637_row7_col6 {\n",
       "  background-color: #9fbfff;\n",
       "  color: #000000;\n",
       "}\n",
       "#T_b1637_row7_col8 {\n",
       "  background-color: #86a9fc;\n",
       "  color: #f1f1f1;\n",
       "}\n",
       "#T_b1637_row8_col0, #T_b1637_row8_col1 {\n",
       "  background-color: #4c66d6;\n",
       "  color: #f1f1f1;\n",
       "}\n",
       "#T_b1637_row8_col4 {\n",
       "  background-color: #f6bda2;\n",
       "  color: #000000;\n",
       "}\n",
       "#T_b1637_row8_col5 {\n",
       "  background-color: #9ebeff;\n",
       "  color: #000000;\n",
       "}\n",
       "#T_b1637_row8_col6 {\n",
       "  background-color: #ed8366;\n",
       "  color: #f1f1f1;\n",
       "}\n",
       "#T_b1637_row8_col7 {\n",
       "  background-color: #5a78e4;\n",
       "  color: #f1f1f1;\n",
       "}\n",
       "</style>\n",
       "<table id=\"T_b1637\">\n",
       "  <thead>\n",
       "    <tr>\n",
       "      <th class=\"blank level0\" >&nbsp;</th>\n",
       "      <th id=\"T_b1637_level0_col0\" class=\"col_heading level0 col0\" >Total Talk Duration</th>\n",
       "      <th id=\"T_b1637_level0_col1\" class=\"col_heading level0 col1\" >Total Talk Duration in min</th>\n",
       "      <th id=\"T_b1637_level0_col2\" class=\"col_heading level0 col2\" >Total Interruption Duration</th>\n",
       "      <th id=\"T_b1637_level0_col3\" class=\"col_heading level0 col3\" >Total Interruption Duration in min</th>\n",
       "      <th id=\"T_b1637_level0_col4\" class=\"col_heading level0 col4\" >Number of Interruptions</th>\n",
       "      <th id=\"T_b1637_level0_col5\" class=\"col_heading level0 col5\" >Total Interruption Duration (M)</th>\n",
       "      <th id=\"T_b1637_level0_col6\" class=\"col_heading level0 col6\" >Total Interruption Duration (F)</th>\n",
       "      <th id=\"T_b1637_level0_col7\" class=\"col_heading level0 col7\" >Number of Interruptions (M)</th>\n",
       "      <th id=\"T_b1637_level0_col8\" class=\"col_heading level0 col8\" >Number of Interruptions (F)</th>\n",
       "    </tr>\n",
       "  </thead>\n",
       "  <tbody>\n",
       "    <tr>\n",
       "      <th id=\"T_b1637_level0_row0\" class=\"row_heading level0 row0\" >Total Talk Duration</th>\n",
       "      <td id=\"T_b1637_row0_col0\" class=\"data row0 col0\" >1.000000</td>\n",
       "      <td id=\"T_b1637_row0_col1\" class=\"data row0 col1\" >1.000000</td>\n",
       "      <td id=\"T_b1637_row0_col2\" class=\"data row0 col2\" >0.149549</td>\n",
       "      <td id=\"T_b1637_row0_col3\" class=\"data row0 col3\" >0.149549</td>\n",
       "      <td id=\"T_b1637_row0_col4\" class=\"data row0 col4\" >0.204651</td>\n",
       "      <td id=\"T_b1637_row0_col5\" class=\"data row0 col5\" >0.196612</td>\n",
       "      <td id=\"T_b1637_row0_col6\" class=\"data row0 col6\" >0.029079</td>\n",
       "      <td id=\"T_b1637_row0_col7\" class=\"data row0 col7\" >0.220624</td>\n",
       "      <td id=\"T_b1637_row0_col8\" class=\"data row0 col8\" >0.088233</td>\n",
       "    </tr>\n",
       "    <tr>\n",
       "      <th id=\"T_b1637_level0_row1\" class=\"row_heading level0 row1\" >Total Talk Duration in min</th>\n",
       "      <td id=\"T_b1637_row1_col0\" class=\"data row1 col0\" >1.000000</td>\n",
       "      <td id=\"T_b1637_row1_col1\" class=\"data row1 col1\" >1.000000</td>\n",
       "      <td id=\"T_b1637_row1_col2\" class=\"data row1 col2\" >0.149549</td>\n",
       "      <td id=\"T_b1637_row1_col3\" class=\"data row1 col3\" >0.149549</td>\n",
       "      <td id=\"T_b1637_row1_col4\" class=\"data row1 col4\" >0.204651</td>\n",
       "      <td id=\"T_b1637_row1_col5\" class=\"data row1 col5\" >0.196612</td>\n",
       "      <td id=\"T_b1637_row1_col6\" class=\"data row1 col6\" >0.029079</td>\n",
       "      <td id=\"T_b1637_row1_col7\" class=\"data row1 col7\" >0.220624</td>\n",
       "      <td id=\"T_b1637_row1_col8\" class=\"data row1 col8\" >0.088233</td>\n",
       "    </tr>\n",
       "    <tr>\n",
       "      <th id=\"T_b1637_level0_row2\" class=\"row_heading level0 row2\" >Total Interruption Duration</th>\n",
       "      <td id=\"T_b1637_row2_col0\" class=\"data row2 col0\" >0.149549</td>\n",
       "      <td id=\"T_b1637_row2_col1\" class=\"data row2 col1\" >0.149549</td>\n",
       "      <td id=\"T_b1637_row2_col2\" class=\"data row2 col2\" >1.000000</td>\n",
       "      <td id=\"T_b1637_row2_col3\" class=\"data row2 col3\" >1.000000</td>\n",
       "      <td id=\"T_b1637_row2_col4\" class=\"data row2 col4\" >0.813707</td>\n",
       "      <td id=\"T_b1637_row2_col5\" class=\"data row2 col5\" >0.905837</td>\n",
       "      <td id=\"T_b1637_row2_col6\" class=\"data row2 col6\" >0.788300</td>\n",
       "      <td id=\"T_b1637_row2_col7\" class=\"data row2 col7\" >0.645952</td>\n",
       "      <td id=\"T_b1637_row2_col8\" class=\"data row2 col8\" >0.684957</td>\n",
       "    </tr>\n",
       "    <tr>\n",
       "      <th id=\"T_b1637_level0_row3\" class=\"row_heading level0 row3\" >Total Interruption Duration in min</th>\n",
       "      <td id=\"T_b1637_row3_col0\" class=\"data row3 col0\" >0.149549</td>\n",
       "      <td id=\"T_b1637_row3_col1\" class=\"data row3 col1\" >0.149549</td>\n",
       "      <td id=\"T_b1637_row3_col2\" class=\"data row3 col2\" >1.000000</td>\n",
       "      <td id=\"T_b1637_row3_col3\" class=\"data row3 col3\" >1.000000</td>\n",
       "      <td id=\"T_b1637_row3_col4\" class=\"data row3 col4\" >0.813707</td>\n",
       "      <td id=\"T_b1637_row3_col5\" class=\"data row3 col5\" >0.905837</td>\n",
       "      <td id=\"T_b1637_row3_col6\" class=\"data row3 col6\" >0.788300</td>\n",
       "      <td id=\"T_b1637_row3_col7\" class=\"data row3 col7\" >0.645952</td>\n",
       "      <td id=\"T_b1637_row3_col8\" class=\"data row3 col8\" >0.684957</td>\n",
       "    </tr>\n",
       "    <tr>\n",
       "      <th id=\"T_b1637_level0_row4\" class=\"row_heading level0 row4\" >Number of Interruptions</th>\n",
       "      <td id=\"T_b1637_row4_col0\" class=\"data row4 col0\" >0.204651</td>\n",
       "      <td id=\"T_b1637_row4_col1\" class=\"data row4 col1\" >0.204651</td>\n",
       "      <td id=\"T_b1637_row4_col2\" class=\"data row4 col2\" >0.813707</td>\n",
       "      <td id=\"T_b1637_row4_col3\" class=\"data row4 col3\" >0.813707</td>\n",
       "      <td id=\"T_b1637_row4_col4\" class=\"data row4 col4\" >1.000000</td>\n",
       "      <td id=\"T_b1637_row4_col5\" class=\"data row4 col5\" >0.737490</td>\n",
       "      <td id=\"T_b1637_row4_col6\" class=\"data row4 col6\" >0.640858</td>\n",
       "      <td id=\"T_b1637_row4_col7\" class=\"data row4 col7\" >0.877464</td>\n",
       "      <td id=\"T_b1637_row4_col8\" class=\"data row4 col8\" >0.720951</td>\n",
       "    </tr>\n",
       "    <tr>\n",
       "      <th id=\"T_b1637_level0_row5\" class=\"row_heading level0 row5\" >Total Interruption Duration (M)</th>\n",
       "      <td id=\"T_b1637_row5_col0\" class=\"data row5 col0\" >0.196612</td>\n",
       "      <td id=\"T_b1637_row5_col1\" class=\"data row5 col1\" >0.196612</td>\n",
       "      <td id=\"T_b1637_row5_col2\" class=\"data row5 col2\" >0.905837</td>\n",
       "      <td id=\"T_b1637_row5_col3\" class=\"data row5 col3\" >0.905837</td>\n",
       "      <td id=\"T_b1637_row5_col4\" class=\"data row5 col4\" >0.737490</td>\n",
       "      <td id=\"T_b1637_row5_col5\" class=\"data row5 col5\" >1.000000</td>\n",
       "      <td id=\"T_b1637_row5_col6\" class=\"data row5 col6\" >0.453419</td>\n",
       "      <td id=\"T_b1637_row5_col7\" class=\"data row5 col7\" >0.713565</td>\n",
       "      <td id=\"T_b1637_row5_col8\" class=\"data row5 col8\" >0.435696</td>\n",
       "    </tr>\n",
       "    <tr>\n",
       "      <th id=\"T_b1637_level0_row6\" class=\"row_heading level0 row6\" >Total Interruption Duration (F)</th>\n",
       "      <td id=\"T_b1637_row6_col0\" class=\"data row6 col0\" >0.029079</td>\n",
       "      <td id=\"T_b1637_row6_col1\" class=\"data row6 col1\" >0.029079</td>\n",
       "      <td id=\"T_b1637_row6_col2\" class=\"data row6 col2\" >0.788300</td>\n",
       "      <td id=\"T_b1637_row6_col3\" class=\"data row6 col3\" >0.788300</td>\n",
       "      <td id=\"T_b1637_row6_col4\" class=\"data row6 col4\" >0.640858</td>\n",
       "      <td id=\"T_b1637_row6_col5\" class=\"data row6 col5\" >0.453419</td>\n",
       "      <td id=\"T_b1637_row6_col6\" class=\"data row6 col6\" >1.000000</td>\n",
       "      <td id=\"T_b1637_row6_col7\" class=\"data row6 col7\" >0.322655</td>\n",
       "      <td id=\"T_b1637_row6_col8\" class=\"data row6 col8\" >0.808310</td>\n",
       "    </tr>\n",
       "    <tr>\n",
       "      <th id=\"T_b1637_level0_row7\" class=\"row_heading level0 row7\" >Number of Interruptions (M)</th>\n",
       "      <td id=\"T_b1637_row7_col0\" class=\"data row7 col0\" >0.220624</td>\n",
       "      <td id=\"T_b1637_row7_col1\" class=\"data row7 col1\" >0.220624</td>\n",
       "      <td id=\"T_b1637_row7_col2\" class=\"data row7 col2\" >0.645952</td>\n",
       "      <td id=\"T_b1637_row7_col3\" class=\"data row7 col3\" >0.645952</td>\n",
       "      <td id=\"T_b1637_row7_col4\" class=\"data row7 col4\" >0.877464</td>\n",
       "      <td id=\"T_b1637_row7_col5\" class=\"data row7 col5\" >0.713565</td>\n",
       "      <td id=\"T_b1637_row7_col6\" class=\"data row7 col6\" >0.322655</td>\n",
       "      <td id=\"T_b1637_row7_col7\" class=\"data row7 col7\" >1.000000</td>\n",
       "      <td id=\"T_b1637_row7_col8\" class=\"data row7 col8\" >0.300224</td>\n",
       "    </tr>\n",
       "    <tr>\n",
       "      <th id=\"T_b1637_level0_row8\" class=\"row_heading level0 row8\" >Number of Interruptions (F)</th>\n",
       "      <td id=\"T_b1637_row8_col0\" class=\"data row8 col0\" >0.088233</td>\n",
       "      <td id=\"T_b1637_row8_col1\" class=\"data row8 col1\" >0.088233</td>\n",
       "      <td id=\"T_b1637_row8_col2\" class=\"data row8 col2\" >0.684957</td>\n",
       "      <td id=\"T_b1637_row8_col3\" class=\"data row8 col3\" >0.684957</td>\n",
       "      <td id=\"T_b1637_row8_col4\" class=\"data row8 col4\" >0.720951</td>\n",
       "      <td id=\"T_b1637_row8_col5\" class=\"data row8 col5\" >0.435696</td>\n",
       "      <td id=\"T_b1637_row8_col6\" class=\"data row8 col6\" >0.808310</td>\n",
       "      <td id=\"T_b1637_row8_col7\" class=\"data row8 col7\" >0.300224</td>\n",
       "      <td id=\"T_b1637_row8_col8\" class=\"data row8 col8\" >1.000000</td>\n",
       "    </tr>\n",
       "  </tbody>\n",
       "</table>\n"
      ],
      "text/plain": [
       "<pandas.io.formats.style.Styler at 0x137efc510>"
      ]
     },
     "execution_count": 196,
     "metadata": {},
     "output_type": "execute_result"
    }
   ],
   "source": [
    "corr = df.corr()\n",
    "corr.style.background_gradient(cmap='coolwarm')"
   ]
  },
  {
   "cell_type": "markdown",
   "id": "638ec3fd",
   "metadata": {},
   "source": [
    "On remarque qu'il n'y a pas de corrélation remarquable entre la durée totale d'une conférence et le nombre d'interruptions, ce qui relève d'un fait naturel : plus la conférence est longue plus les spéctateurs se désinteressen et ne posent plus de questions, les interruptions sont donc concentrées dans \"la première heure\" de la conférence. "
   ]
  },
  {
   "cell_type": "code",
   "execution_count": 197,
   "id": "19734298-32b8-43b8-b5e3-4c520bf31152",
   "metadata": {},
   "outputs": [],
   "source": [
    "df['Interruption %'] = df['Total Interruption Duration'] / df['Total Talk Duration']\n",
    "df['Frequence of interruption'] = df['Number of Interruptions'] / df['Total Talk Duration']"
   ]
  },
  {
   "cell_type": "code",
   "execution_count": 198,
   "id": "f0587987-fcdc-4128-9be2-e19d44c712d1",
   "metadata": {},
   "outputs": [],
   "source": [
    "df['AVG interruption']=df['Total Interruption Duration'] / df['Number of Interruptions'] # The average duration of an interruption\"\n",
    "df['AVG interruption'] = df['AVG interruption'].fillna(0) # for the null values "
   ]
  },
  {
   "cell_type": "code",
   "execution_count": 225,
   "id": "382f2f21-a53f-4b6a-8ee7-68d58216d93f",
   "metadata": {},
   "outputs": [
    {
     "data": {
      "text/html": [
       "<div>\n",
       "<style scoped>\n",
       "    .dataframe tbody tr th:only-of-type {\n",
       "        vertical-align: middle;\n",
       "    }\n",
       "\n",
       "    .dataframe tbody tr th {\n",
       "        vertical-align: top;\n",
       "    }\n",
       "\n",
       "    .dataframe thead th {\n",
       "        text-align: right;\n",
       "    }\n",
       "</style>\n",
       "<table border=\"1\" class=\"dataframe\">\n",
       "  <thead>\n",
       "    <tr style=\"text-align: right;\">\n",
       "      <th></th>\n",
       "      <th>Title</th>\n",
       "      <th>Gender</th>\n",
       "      <th>Total Talk Duration</th>\n",
       "      <th>Total Talk Duration in min</th>\n",
       "      <th>Total Interruption Duration</th>\n",
       "      <th>Total Interruption Duration in min</th>\n",
       "      <th>Number of Interruptions</th>\n",
       "      <th>Total Interruption Duration (M)</th>\n",
       "      <th>Total Interruption Duration (F)</th>\n",
       "      <th>Number of Interruptions (M)</th>\n",
       "      <th>Number of Interruptions (F)</th>\n",
       "      <th>Interruption %</th>\n",
       "      <th>Frequence of interruption</th>\n",
       "      <th>AVG interruption</th>\n",
       "      <th>Rang Interruption %</th>\n",
       "      <th>Var_categorielles</th>\n",
       "      <th>Var_categorielles_nombre</th>\n",
       "    </tr>\n",
       "    <tr>\n",
       "      <th>ID</th>\n",
       "      <th></th>\n",
       "      <th></th>\n",
       "      <th></th>\n",
       "      <th></th>\n",
       "      <th></th>\n",
       "      <th></th>\n",
       "      <th></th>\n",
       "      <th></th>\n",
       "      <th></th>\n",
       "      <th></th>\n",
       "      <th></th>\n",
       "      <th></th>\n",
       "      <th></th>\n",
       "      <th></th>\n",
       "      <th></th>\n",
       "      <th></th>\n",
       "      <th></th>\n",
       "    </tr>\n",
       "  </thead>\n",
       "  <tbody>\n",
       "    <tr>\n",
       "      <th>1</th>\n",
       "      <td>Locality II</td>\n",
       "      <td>F</td>\n",
       "      <td>2639.0</td>\n",
       "      <td>43.983333</td>\n",
       "      <td>61</td>\n",
       "      <td>1.016667</td>\n",
       "      <td>11</td>\n",
       "      <td>61</td>\n",
       "      <td>0</td>\n",
       "      <td>11</td>\n",
       "      <td>0</td>\n",
       "      <td>0.023115</td>\n",
       "      <td>0.004168</td>\n",
       "      <td>5.545455</td>\n",
       "      <td>96</td>\n",
       "      <td>2</td>\n",
       "      <td>2_n</td>\n",
       "    </tr>\n",
       "    <tr>\n",
       "      <th>2</th>\n",
       "      <td>Probabilistic and Cominatorial Methods III</td>\n",
       "      <td>M</td>\n",
       "      <td>3794.0</td>\n",
       "      <td>63.233333</td>\n",
       "      <td>92</td>\n",
       "      <td>1.533333</td>\n",
       "      <td>14</td>\n",
       "      <td>92</td>\n",
       "      <td>0</td>\n",
       "      <td>14</td>\n",
       "      <td>0</td>\n",
       "      <td>0.024249</td>\n",
       "      <td>0.003690</td>\n",
       "      <td>6.571429</td>\n",
       "      <td>101</td>\n",
       "      <td>2</td>\n",
       "      <td>2_n</td>\n",
       "    </tr>\n",
       "    <tr>\n",
       "      <th>3</th>\n",
       "      <td>Quantum LDPC Codes II</td>\n",
       "      <td>M</td>\n",
       "      <td>3635.0</td>\n",
       "      <td>60.583333</td>\n",
       "      <td>265</td>\n",
       "      <td>4.416667</td>\n",
       "      <td>40</td>\n",
       "      <td>265</td>\n",
       "      <td>0</td>\n",
       "      <td>40</td>\n",
       "      <td>0</td>\n",
       "      <td>0.072902</td>\n",
       "      <td>0.011004</td>\n",
       "      <td>6.625000</td>\n",
       "      <td>253</td>\n",
       "      <td>3</td>\n",
       "      <td>3_n</td>\n",
       "    </tr>\n",
       "    <tr>\n",
       "      <th>4</th>\n",
       "      <td>Algebraic Codes/Algorithms I</td>\n",
       "      <td>F</td>\n",
       "      <td>3695.0</td>\n",
       "      <td>61.583333</td>\n",
       "      <td>102</td>\n",
       "      <td>1.700000</td>\n",
       "      <td>15</td>\n",
       "      <td>102</td>\n",
       "      <td>0</td>\n",
       "      <td>15</td>\n",
       "      <td>0</td>\n",
       "      <td>0.027605</td>\n",
       "      <td>0.004060</td>\n",
       "      <td>6.800000</td>\n",
       "      <td>116</td>\n",
       "      <td>2</td>\n",
       "      <td>2_n</td>\n",
       "    </tr>\n",
       "    <tr>\n",
       "      <th>5</th>\n",
       "      <td>Probabilistic and Cominatorial Methods II</td>\n",
       "      <td>M</td>\n",
       "      <td>3541.0</td>\n",
       "      <td>59.016667</td>\n",
       "      <td>19</td>\n",
       "      <td>0.316667</td>\n",
       "      <td>4</td>\n",
       "      <td>19</td>\n",
       "      <td>0</td>\n",
       "      <td>4</td>\n",
       "      <td>0</td>\n",
       "      <td>0.005366</td>\n",
       "      <td>0.001130</td>\n",
       "      <td>4.750000</td>\n",
       "      <td>21</td>\n",
       "      <td>1</td>\n",
       "      <td>1_n</td>\n",
       "    </tr>\n",
       "    <tr>\n",
       "      <th>6</th>\n",
       "      <td>Recent Advances in LTCs</td>\n",
       "      <td>M</td>\n",
       "      <td>4014.0</td>\n",
       "      <td>66.900000</td>\n",
       "      <td>93</td>\n",
       "      <td>1.550000</td>\n",
       "      <td>7</td>\n",
       "      <td>93</td>\n",
       "      <td>0</td>\n",
       "      <td>7</td>\n",
       "      <td>0</td>\n",
       "      <td>0.023169</td>\n",
       "      <td>0.001744</td>\n",
       "      <td>13.285714</td>\n",
       "      <td>97</td>\n",
       "      <td>2</td>\n",
       "      <td>1_n</td>\n",
       "    </tr>\n",
       "    <tr>\n",
       "      <th>7</th>\n",
       "      <td>Polar Codes</td>\n",
       "      <td>M</td>\n",
       "      <td>2496.0</td>\n",
       "      <td>41.600000</td>\n",
       "      <td>39</td>\n",
       "      <td>0.650000</td>\n",
       "      <td>6</td>\n",
       "      <td>39</td>\n",
       "      <td>0</td>\n",
       "      <td>6</td>\n",
       "      <td>0</td>\n",
       "      <td>0.015625</td>\n",
       "      <td>0.002404</td>\n",
       "      <td>6.500000</td>\n",
       "      <td>60</td>\n",
       "      <td>1</td>\n",
       "      <td>2_n</td>\n",
       "    </tr>\n",
       "    <tr>\n",
       "      <th>8</th>\n",
       "      <td>Intro to Quantum Codes</td>\n",
       "      <td>M</td>\n",
       "      <td>3925.0</td>\n",
       "      <td>65.416667</td>\n",
       "      <td>96</td>\n",
       "      <td>1.600000</td>\n",
       "      <td>16</td>\n",
       "      <td>93</td>\n",
       "      <td>3</td>\n",
       "      <td>15</td>\n",
       "      <td>1</td>\n",
       "      <td>0.024459</td>\n",
       "      <td>0.004076</td>\n",
       "      <td>6.000000</td>\n",
       "      <td>102</td>\n",
       "      <td>2</td>\n",
       "      <td>2_n</td>\n",
       "    </tr>\n",
       "    <tr>\n",
       "      <th>9</th>\n",
       "      <td>Polar Codes II</td>\n",
       "      <td>M</td>\n",
       "      <td>3294.0</td>\n",
       "      <td>54.900000</td>\n",
       "      <td>69</td>\n",
       "      <td>1.150000</td>\n",
       "      <td>12</td>\n",
       "      <td>69</td>\n",
       "      <td>0</td>\n",
       "      <td>12</td>\n",
       "      <td>0</td>\n",
       "      <td>0.020947</td>\n",
       "      <td>0.003643</td>\n",
       "      <td>5.750000</td>\n",
       "      <td>88</td>\n",
       "      <td>2</td>\n",
       "      <td>2_n</td>\n",
       "    </tr>\n",
       "    <tr>\n",
       "      <th>10</th>\n",
       "      <td>Algebraic Codes/Algorithms II</td>\n",
       "      <td>F</td>\n",
       "      <td>2176.0</td>\n",
       "      <td>36.266667</td>\n",
       "      <td>106</td>\n",
       "      <td>1.766667</td>\n",
       "      <td>10</td>\n",
       "      <td>97</td>\n",
       "      <td>9</td>\n",
       "      <td>9</td>\n",
       "      <td>1</td>\n",
       "      <td>0.048713</td>\n",
       "      <td>0.004596</td>\n",
       "      <td>10.600000</td>\n",
       "      <td>175</td>\n",
       "      <td>2</td>\n",
       "      <td>2_n</td>\n",
       "    </tr>\n",
       "  </tbody>\n",
       "</table>\n",
       "</div>"
      ],
      "text/plain": [
       "                                         Title Gender  Total Talk Duration  \\\n",
       "ID                                                                           \n",
       "1                                  Locality II      F               2639.0   \n",
       "2   Probabilistic and Cominatorial Methods III      M               3794.0   \n",
       "3                        Quantum LDPC Codes II      M               3635.0   \n",
       "4                 Algebraic Codes/Algorithms I      F               3695.0   \n",
       "5    Probabilistic and Cominatorial Methods II      M               3541.0   \n",
       "6                      Recent Advances in LTCs      M               4014.0   \n",
       "7                                  Polar Codes      M               2496.0   \n",
       "8                       Intro to Quantum Codes      M               3925.0   \n",
       "9                               Polar Codes II      M               3294.0   \n",
       "10               Algebraic Codes/Algorithms II      F               2176.0   \n",
       "\n",
       "    Total Talk Duration in min  Total Interruption Duration  \\\n",
       "ID                                                            \n",
       "1                    43.983333                           61   \n",
       "2                    63.233333                           92   \n",
       "3                    60.583333                          265   \n",
       "4                    61.583333                          102   \n",
       "5                    59.016667                           19   \n",
       "6                    66.900000                           93   \n",
       "7                    41.600000                           39   \n",
       "8                    65.416667                           96   \n",
       "9                    54.900000                           69   \n",
       "10                   36.266667                          106   \n",
       "\n",
       "    Total Interruption Duration in min  Number of Interruptions  \\\n",
       "ID                                                                \n",
       "1                             1.016667                       11   \n",
       "2                             1.533333                       14   \n",
       "3                             4.416667                       40   \n",
       "4                             1.700000                       15   \n",
       "5                             0.316667                        4   \n",
       "6                             1.550000                        7   \n",
       "7                             0.650000                        6   \n",
       "8                             1.600000                       16   \n",
       "9                             1.150000                       12   \n",
       "10                            1.766667                       10   \n",
       "\n",
       "    Total Interruption Duration (M)  Total Interruption Duration (F)  \\\n",
       "ID                                                                     \n",
       "1                                61                                0   \n",
       "2                                92                                0   \n",
       "3                               265                                0   \n",
       "4                               102                                0   \n",
       "5                                19                                0   \n",
       "6                                93                                0   \n",
       "7                                39                                0   \n",
       "8                                93                                3   \n",
       "9                                69                                0   \n",
       "10                               97                                9   \n",
       "\n",
       "    Number of Interruptions (M)  Number of Interruptions (F)  Interruption %  \\\n",
       "ID                                                                             \n",
       "1                            11                            0        0.023115   \n",
       "2                            14                            0        0.024249   \n",
       "3                            40                            0        0.072902   \n",
       "4                            15                            0        0.027605   \n",
       "5                             4                            0        0.005366   \n",
       "6                             7                            0        0.023169   \n",
       "7                             6                            0        0.015625   \n",
       "8                            15                            1        0.024459   \n",
       "9                            12                            0        0.020947   \n",
       "10                            9                            1        0.048713   \n",
       "\n",
       "    Frequence of interruption  AVG interruption  Rang Interruption %  \\\n",
       "ID                                                                     \n",
       "1                    0.004168          5.545455                   96   \n",
       "2                    0.003690          6.571429                  101   \n",
       "3                    0.011004          6.625000                  253   \n",
       "4                    0.004060          6.800000                  116   \n",
       "5                    0.001130          4.750000                   21   \n",
       "6                    0.001744         13.285714                   97   \n",
       "7                    0.002404          6.500000                   60   \n",
       "8                    0.004076          6.000000                  102   \n",
       "9                    0.003643          5.750000                   88   \n",
       "10                   0.004596         10.600000                  175   \n",
       "\n",
       "   Var_categorielles Var_categorielles_nombre  \n",
       "ID                                             \n",
       "1                  2                      2_n  \n",
       "2                  2                      2_n  \n",
       "3                  3                      3_n  \n",
       "4                  2                      2_n  \n",
       "5                  1                      1_n  \n",
       "6                  2                      1_n  \n",
       "7                  1                      2_n  \n",
       "8                  2                      2_n  \n",
       "9                  2                      2_n  \n",
       "10                 2                      2_n  "
      ]
     },
     "execution_count": 225,
     "metadata": {},
     "output_type": "execute_result"
    }
   ],
   "source": [
    "df.head(10)"
   ]
  },
  {
   "cell_type": "markdown",
   "id": "e842a1b6-2a24-4308-9518-ec4210e3f171",
   "metadata": {},
   "source": [
    "### Relevant Plots"
   ]
  },
  {
   "cell_type": "code",
   "execution_count": 200,
   "id": "e9cb74f6-4989-4039-9192-1c8b5d4e8e27",
   "metadata": {},
   "outputs": [
    {
     "data": {
      "image/png": "[encoded data removed]",
      "text/plain": [
       "<Figure size 864x432 with 2 Axes>"
      ]
     },
     "metadata": {
      "needs_background": "light"
     },
     "output_type": "display_data"
    }
   ],
   "source": [
    "# Boxplots of distribution of interruptions\n",
    "\n",
    "Male = df[df['Gender'] == 'M']['Frequence of interruption']\n",
    "Female = df[df['Gender'] == 'F']['Frequence of interruption']\n",
    "\n",
    "fig, axs = plt.subplots(1, 2, figsize=(12, 6), sharex=True)\n",
    "fig.suptitle('Boxplots of distribution of interruptionsx')\n",
    "\n",
    "axs[0].boxplot([Male, Female], labels=['Hommes', 'Femmes'])\n",
    "axs[0].set_xlabel('Genre')\n",
    "axs[0].set_ylabel('Fréqunce d\\'interruptions')\n",
    "axs[0].set_title('Distribution des interruptions par genre (en fréquence)')\n",
    "\n",
    "\n",
    "Male_frequency = df[df['Gender'] == 'M']['Interruption %']\n",
    "Female_frequency = df[df['Gender'] == 'F']['Interruption %']\n",
    "axs[1].boxplot([Male_frequency, Female_frequency], labels=['Hommes', 'Femmes'])\n",
    "axs[1].set_xlabel('Genre')\n",
    "axs[1].set_ylabel('Pourcentage d\\'interruptions')\n",
    "axs[1].set_title('Distribution des interruptions par genre (en pourcentage)')\n",
    "\n",
    "plt.tight_layout()\n",
    "plt.show()"
   ]
  },
  {
   "cell_type": "markdown",
   "id": "4efa543e",
   "metadata": {},
   "source": [
    "De première vue, nous voyons que les médianes des deux distributions sont à peu près au meme niveau. Nous allons vérifier par la suite, par des tests statistiques plus pertinents, si ces deux distributions sont réellement semblables."
   ]
  },
  {
   "cell_type": "code",
   "execution_count": 201,
   "id": "e3cc9e7e-5d87-48d3-80ac-3ed76a259b1e",
   "metadata": {},
   "outputs": [
    {
     "data": {
      "image/png": "[encoded data removed]",
      "text/plain": [
       "<Figure size 432x288 with 1 Axes>"
      ]
     },
     "metadata": {
      "needs_background": "light"
     },
     "output_type": "display_data"
    }
   ],
   "source": [
    "# Here, we plot the average duration of an interruption as a function of the number of interruptions. \n",
    "#The top-right quadrant signifies both a high number of interruptions and a long duration for each interruption.\n",
    "#Finding women in this quadrant would be a strong indicator of bias.\n",
    "hommes = df[df['Gender'] == 'M']\n",
    "femmes = df[df['Gender'] == 'F']\n",
    "\n",
    "plt.scatter(hommes['Number of Interruptions'], hommes['AVG interruption'], color='blue', label='Hommes')\n",
    "plt.scatter(femmes['Number of Interruptions'], femmes['AVG interruption'], color='red', label='Femmes')\n",
    "\n",
    "plt.xlabel('Nombre d\\'interruptions')\n",
    "plt.ylabel('Durée moyenne des interruptions')\n",
    "plt.title('Nuage de points : Nombre d\\'interruptions vs durée moyenne des interruptions par genre')\n",
    "\n",
    "plt.legend()\n",
    "plt.show()"
   ]
  },
  {
   "cell_type": "markdown",
   "id": "216f7393-5a62-4737-adda-37551dac7ee2",
   "metadata": {},
   "source": [
    "Ce graphe a été réalisé pour explorer la relation entre la durée moyenne des interruptions et le nombre total d'interruptions. Ainsi, si nous observons une concentration dans le quadrant en haut à droite, cela signifie que la catégorie en question subit de nombreuses interruptions, et celles-ci durent généralement plus longtemps. Mis à part quelques valeurs aberrantes, cette situation n'est pas très fréquente. Par conséquent, nous avons envisagé que, étant donné que le système détecte principalement les interruptions les plus brèves, le nombre d'interruptions pourrait ne pas être une mesure pertinente. Certaines interruptions pourraient ne pas être des interruptions à proprement parler, mais plutôt des commentaires ponctuant la discussion avec le conférencier, tels que \"oui\", \"c'est plus clair maintenant\", \"Qu'en est-il de l'autre cas\", etc.\n",
    "\n",
    "Cette réflexion nous a alors conduit à examiner la durée moyenne des interruptions en fonction de la durée totale de la conférence. Nous pensons en effet que plus la conférence est longue, moins les participants restent attentifs à la fin et posent moins de questions, sauf s'il existe un biais et qu'ils cherchent à poser des questions simplement pour prolonger la durée de l'événement."
   ]
  },
  {
   "cell_type": "code",
   "execution_count": 202,
   "id": "20c690ff-9212-4ebc-b40e-da9487b1182f",
   "metadata": {},
   "outputs": [
    {
     "data": {
      "image/png": "[encoded data removed]",
      "text/plain": [
       "<Figure size 720x720 with 1 Axes>"
      ]
     },
     "metadata": {
      "needs_background": "light"
     },
     "output_type": "display_data"
    }
   ],
   "source": [
    "plt.figure(figsize=(10, 10))\n",
    "plt.scatter(hommes['Total Talk Duration']/60, hommes['AVG interruption'], color='blue', label='Hommes')\n",
    "plt.scatter(femmes['Total Talk Duration']/60, femmes['AVG interruption'], color='red', label='Femmes')\n",
    "plt.xlabel('Durée totale de la conférence')\n",
    "plt.ylabel('Durée moyenne des interruptions')\n",
    "plt.axvline(x=65, color='black', linestyle='--', linewidth=2)\n",
    "plt.xlim(0, 150)\n",
    "plt.title('Nuage de points :durée totale de la conférence vs durée moyenne des interruptions par genre')\n",
    "\n",
    "plt.legend()\n",
    "plt.show()"
   ]
  },
  {
   "cell_type": "markdown",
   "id": "30c05a91-1f04-4522-9975-0c50b6d2902e",
   "metadata": {},
   "source": [
    "Ce graphe attire notre attention sur le fait que plusieurs conférences n'ont pas eu d'interruptions. On va essayer de voir la proportion de ce type de conférences parmi les femmes et les hommes."
   ]
  },
  {
   "cell_type": "code",
   "execution_count": 203,
   "id": "5677d8f4-1473-4b7b-b858-c7a57fee5ef7",
   "metadata": {},
   "outputs": [],
   "source": [
    "nombre_conferences_hommes = hommes.shape[0]\n",
    "nombre_conferences_femmes = femmes.shape[0]\n",
    "nombre_conferences_sans_interruption = len(df[df['Number of Interruptions'] == 0])\n",
    "nombre_conferences_sans_interruption_femmes = len(df[(df['Number of Interruptions'] == 0) & (df['Gender'] == 'F')])\n",
    "nombre_conferences_sans_interruption_hommes = len(df[(df['Number of Interruptions'] == 0) & (df['Gender'] == 'M')])\n",
    "pourcentage_sans_interruption = (nombre_conferences_sans_interruption / df.shape[0]) * 100\n",
    "pourcentage_sans_interruption_femmes = (nombre_conferences_sans_interruption_femmes / nombre_conferences_femmes) * 100\n",
    "pourcentage_sans_interruption_hommes = (nombre_conferences_sans_interruption_hommes / nombre_conferences_hommes) * 100\n"
   ]
  },
  {
   "cell_type": "code",
   "execution_count": 204,
   "id": "66c134a1-c100-45ae-8c56-7d51599ee850",
   "metadata": {},
   "outputs": [
    {
     "name": "stdout",
     "output_type": "stream",
     "text": [
      "╒═════════════╤═════════════════════════╤═════════════════════╤═════════════════════════════════════╕\n",
      "│ Catégorie   │   Nombre de conférences │   Sans interruption │   Pourcentage sans interruption (%) │\n",
      "╞═════════════╪═════════════════════════╪═════════════════════╪═════════════════════════════════════╡\n",
      "│ Total       │                     609 │                  76 │                               12.48 │\n",
      "├─────────────┼─────────────────────────┼─────────────────────┼─────────────────────────────────────┤\n",
      "│ Femmes      │                     173 │                  22 │                               12.72 │\n",
      "├─────────────┼─────────────────────────┼─────────────────────┼─────────────────────────────────────┤\n",
      "│ Hommes      │                     436 │                  54 │                               12.39 │\n",
      "╘═════════════╧═════════════════════════╧═════════════════════╧═════════════════════════════════════╛\n"
     ]
    }
   ],
   "source": [
    "from tabulate import tabulate\n",
    "\n",
    "resultats = {\n",
    "    \"Catégorie\": [\"Total\", \"Femmes\", \"Hommes\"],\n",
    "    \"Nombre de conférences\": [df.shape[0], nombre_conferences_femmes, nombre_conferences_hommes],\n",
    "    \"Sans interruption\": [nombre_conferences_sans_interruption, nombre_conferences_sans_interruption_femmes, nombre_conferences_sans_interruption_hommes],\n",
    "    \"Pourcentage sans interruption (%)\": [\"{:.2f}\".format(pourcentage_sans_interruption), \"{:.2f}\".format(pourcentage_sans_interruption_femmes), \"{:.2f}\".format(pourcentage_sans_interruption_hommes)]\n",
    "}\n",
    "print(tabulate(resultats, headers=\"keys\", tablefmt=\"fancy_grid\"))"
   ]
  },
  {
   "cell_type": "markdown",
   "id": "0eba2af5",
   "metadata": {},
   "source": [
    "Là encore, nous ne détectons aucun biais dans \"l'absence d'interruptions\". Les conférenciers hommes et femmes ont les memes pourcentages de conférences sans interruptions."
   ]
  },
  {
   "cell_type": "markdown",
   "id": "048ab1be-fbc1-49af-a26b-b60f4941d754",
   "metadata": {},
   "source": [
    "### Test de MannWhitney "
   ]
  },
  {
   "cell_type": "markdown",
   "id": "43fb18b9-95d5-499c-8869-4bc826ac0aab",
   "metadata": {},
   "source": [
    "On commence par appliquer le test de Mann-Whiteney pour le pourcentage que représente la durée totale des interruptions en fonction de la durée totale de la conférence. Parce que comme évoqué avant on remarque que c'est une donnée plus pertinent que la fréquence des interruptions, et on va s'intéresser à la deuxième peut être juste pour prouver ce point.\n",
    " "
   ]
  },
  {
   "cell_type": "code",
   "execution_count": 205,
   "id": "e432ea3d-c79b-401e-a27b-4d870b0f4af8",
   "metadata": {},
   "outputs": [],
   "source": [
    "# On rajoute la colonne du Rang \n",
    "df['Rang Interruption %'] = df['Interruption %'].rank(method='dense').astype(int)"
   ]
  },
  {
   "cell_type": "markdown",
   "id": "0c1ee952-cc4f-4be8-ba7e-6316827f35b2",
   "metadata": {},
   "source": [
    "Hypothèse nulle : il n'y a pas de différence (en termes de tendance centrale) entre les deux groupes de la population.\n",
    "\n",
    "Hypothèse alternative : il existe une différence (en termes de tendance centrale) entre les deux groupes de la population."
   ]
  },
  {
   "cell_type": "markdown",
   "id": "50f4be53",
   "metadata": {},
   "source": [
    "Les seules hypothèses pour réaliser un\n",
    "test de Mann-Whitney sont que les deux groupes\n",
    "doivent être indépendants et que la variable dépendante\n",
    "est ordinale ou numérique (continue).\n",
    "Cependant, pour que la différence entre les groupes soit rapportée sous forme de médiane, la forme de l'histogramme est nécessaire.\n",
    "entre les groupes sous forme de médianes, la forme des distributions de la variable dépendante par groupe est nécessaire.\n",
    "distribution de la variable dépendante par groupe\n",
    "doivent être similaires."
   ]
  },
  {
   "cell_type": "code",
   "execution_count": 206,
   "id": "29ca71e2",
   "metadata": {},
   "outputs": [
    {
     "data": {
      "image/png": "[encoded data removed]",
      "text/plain": [
       "<Figure size 864x1296 with 3 Axes>"
      ]
     },
     "metadata": {
      "needs_background": "light"
     },
     "output_type": "display_data"
    },
    {
     "data": {
      "image/png": "[encoded data removed]",
      "text/plain": [
       "<Figure size 864x1296 with 3 Axes>"
      ]
     },
     "metadata": {
      "needs_background": "light"
     },
     "output_type": "display_data"
    }
   ],
   "source": [
    "import seaborn as sns\n",
    "import matplotlib.pyplot as plt\n",
    "\n",
    "\n",
    "fig, axs = plt.subplots(3, 1, figsize=(12, 18), sharex=True)\n",
    "fig.suptitle('Frequence of interruptions histogram based on Sex')\n",
    "\n",
    "\n",
    "sns.histplot(df['Frequence of interruption'], ax=axs[0], kde=True, color='red')\n",
    "axs[0].set_title('Frequence of interruption')\n",
    "\n",
    "sns.histplot(df[df['Gender']=='M']['Frequence of interruption'], ax=axs[1], kde=True, color='green')\n",
    "axs[1].set_title('Male Frequence of interruption')\n",
    "\n",
    "sns.histplot(df[df['Gender']=='F']['Frequence of interruption'], ax=axs[2], kde=True, color='orange')\n",
    "axs[2].set_title('Female Frequence of interruption')\n",
    "axs[0].set_xlim(0,0.05)\n",
    "axs[1].set_xlim(0,0.05)\n",
    "axs[2].set_xlim(0,0.05)\n",
    "plt.tight_layout()\n",
    "plt.show()\n",
    "\n",
    "\n",
    "fig, axs = plt.subplots(3, 1, figsize=(12, 18), sharex=True)\n",
    "fig.suptitle('Percentage of interruptions histogram based on Sex')\n",
    "\n",
    "sns.histplot(df['Interruption %'], ax=axs[0], kde=True, color='red')\n",
    "axs[0].set_title('Interruption %')\n",
    "\n",
    "sns.histplot(df[df['Gender']=='M']['Interruption %'], ax=axs[1], kde=True, color='green')\n",
    "axs[1].set_title('Male Interruption %')\n",
    "\n",
    "sns.histplot(df[df['Gender']=='F']['Interruption %'], ax=axs[2], kde=True, color='orange')\n",
    "axs[2].set_title('Female Interruption %')\n",
    "axs[0].set_xlim(0,1)\n",
    "axs[1].set_xlim(0,1)\n",
    "axs[2].set_xlim(0,1)\n",
    "plt.tight_layout()\n",
    "plt.show()\n"
   ]
  },
  {
   "cell_type": "code",
   "execution_count": 207,
   "id": "43cfc5b3-c72b-4de5-b56e-2c02db3f1375",
   "metadata": {},
   "outputs": [],
   "source": [
    "Male_frequency= df[df['Gender'] == 'M']['Interruption %']\n",
    "Female_frequency=df[df['Gender'] == 'F']['Interruption %']\n",
    "statistic, p_value = mannwhitneyu(Male_frequency, Female_frequency)\n",
    "n = len(Male_frequency)\n",
    "m = len(Female_frequency)\n",
    "expected_u = (n * m) / 2\n",
    "sigma_u = (n * m * (n + m + 1)) / 12 ** 0.5\n",
    "z_value = (u_statistic - expected_u) / sigma_u\n"
   ]
  },
  {
   "cell_type": "code",
   "execution_count": 208,
   "id": "2f45be64-0801-4278-b13d-b09ac841c0b8",
   "metadata": {},
   "outputs": [
    {
     "name": "stdout",
     "output_type": "stream",
     "text": [
      "Statistique de test de Mann-Whitney pour le pourcentage d'interruptions: 38448.0\n",
      "p-Valeur associée : 0.7076921702178925\n",
      "Valeur de z calculée : -0.0011400172883665387\n"
     ]
    }
   ],
   "source": [
    "print(\"Statistique de test de Mann-Whitney pour le pourcentage d'interruptions:\", statistic)\n",
    "print(\"p-Valeur associée :\", p_value)\n",
    "print(\"Valeur de z calculée :\", z_value)"
   ]
  },
  {
   "cell_type": "code",
   "execution_count": 209,
   "id": "eec79dda",
   "metadata": {},
   "outputs": [],
   "source": [
    "Male_frequency= df[df['Gender'] == 'M']['Frequence of interruption']\n",
    "Female_frequency=df[df['Gender'] == 'F']['Frequence of interruption']\n",
    "statistic, p_value = mannwhitneyu(Male_frequency, Female_frequency)\n",
    "n = len(Male_frequency)\n",
    "m = len(Female_frequency)\n",
    "expected_u = (n * m) / 2\n",
    "sigma_u = (n * m * (n + m + 1)) / 12 ** 0.5\n",
    "z_value = (u_statistic - expected_u) / sigma_u"
   ]
  },
  {
   "cell_type": "code",
   "execution_count": 210,
   "id": "66761299",
   "metadata": {},
   "outputs": [
    {
     "name": "stdout",
     "output_type": "stream",
     "text": [
      "Statistique de test de Mann-Whitney pour la fréquence d'interruptions : 39616.0\n",
      "p-Valeur associée : 0.33103736257522687\n",
      "Valeur de z calculée : -0.0011400172883665387\n"
     ]
    }
   ],
   "source": [
    "print(\"Statistique de test de Mann-Whitney pour la fréquence d'interruptions :\", statistic)\n",
    "print(\"p-Valeur associée :\", p_value)\n",
    "print(\"Valeur de z calculée :\", z_value)"
   ]
  },
  {
   "cell_type": "markdown",
   "id": "98409813",
   "metadata": {},
   "source": [
    "\n",
    "#### Conclusion\n",
    "\n",
    "Dans le cadre de notre étude sur les interruptions, nous avons effectué deux tests de Mann-Whitney U pour comparer les distributions des interruptions entre les groupes concernant la fréquence et le pourcentage d'interruptions.\n",
    "\n",
    "Pour la fréquence d'interruptions, nous avons obtenu une statistique de test de Mann-Whitney \\( U \\) de 39616.0 avec une p-valeur associée de \\( p = 0.331 \\). La valeur calculée de \\( z \\) est de \\( z = -0.0011 \\). De même, pour le pourcentage d'interruptions, nous avons obtenu une statistique de test de Mann-Whitney de 38448.0 avec une p-valeur associée de \\( p = 0.708 \\) et une valeur calculée de \\( z = -0.0011 \\).\n",
    "\n",
    "En utilisant un seuil de signification \\( \\alpha = 0.05 \\), la région d'acceptation pour chaque test de Mann-Whitney U est l'intervalle \\([ -1.96, 1.96 ]\\) pour un test bilatéral. Dans les deux cas, les valeurs calculées de \\( z \\) (-0.0011) se situent à l'intérieur de cette région d'acceptation. Par conséquent, nous ne pouvons pas rejeter l'hypothèse nulle selon laquelle il n'y a pas de différence significative entre les groupes en ce qui concerne la fréquence ou le pourcentage d'interruptions.\n",
    "\n",
    "Ainsi, sur la base des résultats de nos tests, nous concluons qu'il n'y a pas suffisamment de preuves pour affirmer qu'il existe une différence significative dans la fréquence ou le pourcentage d'interruptions entre les femmes et les hommes.\n",
    "\n"
   ]
  },
  {
   "cell_type": "markdown",
   "id": "99063e4a-f94f-4f1c-b754-1777f30d1427",
   "metadata": {},
   "source": [
    "### Test du Chi-2"
   ]
  },
  {
   "cell_type": "markdown",
   "id": "b801d134-7299-43c4-ac82-534416091234",
   "metadata": {},
   "source": [
    "Pour ce test, nous avons besoin d'un tableau de contingence qui croise le sexe du locuteur principal avec la fréquence d'interruption, mais par catégories. Définir des intervalles de catégories lors d'une étude statistique dont on n'a pas de connaissances préalables est arbitraire ; on opte donc pour une catégorisation basée sur les quartiles de la distribution. Toutefois, cette approche peut être quelque peu erronée, en particulier si les points de données sont très proches les uns des autres."
   ]
  },
  {
   "cell_type": "code",
   "execution_count": 211,
   "id": "6867871e-63f1-4f78-8570-84854b5f444a",
   "metadata": {},
   "outputs": [],
   "source": [
    " df['Var_categorielles']=pd.qcut(df['Interruption %'], 4, labels=['1','2','3','4']) # Defining Category intervals "
   ]
  },
  {
   "cell_type": "code",
   "execution_count": 212,
   "id": "dea0c918-681b-4d9b-94f9-46a64852e8af",
   "metadata": {},
   "outputs": [
    {
     "name": "stdout",
     "output_type": "stream",
     "text": [
      "Var_categorielles    1    2    3    4\n",
      "Gender                               \n",
      "F                   44   45   41   43\n",
      "M                  109  107  111  109\n"
     ]
    }
   ],
   "source": [
    "# Test avec la fréquence d'interruptions\n",
    "contingency_table = pd.crosstab(df['Gender'], df['Var_categorielles'])\n",
    "print(contingency_table)"
   ]
  },
  {
   "cell_type": "code",
   "execution_count": 213,
   "id": "a5ae6d43-5946-4478-92e0-3f70599652dd",
   "metadata": {},
   "outputs": [
    {
     "name": "stdout",
     "output_type": "stream",
     "text": [
      "Valeur de chi carré : 0.27116493086881205\n",
      "p valeur associée : 0.9653570991119085\n",
      "Degrés de liberté : 3\n"
     ]
    }
   ],
   "source": [
    "chi2, p_value, dof, expected = chi2_contingency(contingency_table)\n",
    "print(\"Valeur de chi carré :\", chi2)\n",
    "print(\"p valeur associée :\", p_value)\n",
    "print(\"Degrés de liberté :\", dof)"
   ]
  },
  {
   "cell_type": "code",
   "execution_count": 214,
   "id": "7864a5b8-17a8-48a4-b1a6-c94295124637",
   "metadata": {},
   "outputs": [],
   "source": [
    "df['Var_categorielles_nombre']=pd.qcut(df['Frequence of interruption'], 4, labels=['1_n','2_n','3_n','4_n'])"
   ]
  },
  {
   "cell_type": "code",
   "execution_count": 215,
   "id": "0d3792a5-5193-4725-b1ad-f4eaee4351f1",
   "metadata": {},
   "outputs": [
    {
     "name": "stdout",
     "output_type": "stream",
     "text": [
      "Var_categorielles_nombre  1_n  2_n  3_n  4_n\n",
      "Gender                                      \n",
      "F                          47   43   44   39\n",
      "M                         106  109  108  113\n"
     ]
    }
   ],
   "source": [
    "# Test avec le nombre d'interruptions \n",
    "contingency_table_freq = pd.crosstab(df['Gender'], df['Var_categorielles_nombre'])\n",
    "\n",
    "print(contingency_table_freq)"
   ]
  },
  {
   "cell_type": "code",
   "execution_count": 216,
   "id": "b0b34b84-6347-47ef-a94a-0de47c1be8b0",
   "metadata": {},
   "outputs": [
    {
     "name": "stdout",
     "output_type": "stream",
     "text": [
      "Valeur de chi carré : 0.989816103717551\n",
      "p valeur associée : 0.8037161402569011\n",
      "Degrés de liberté : 3\n"
     ]
    }
   ],
   "source": [
    "chi2_freq, p_value_freq, dof_freq, expected_freq = chi2_contingency(contingency_table_freq)\n",
    "print(\"Valeur de chi carré :\", chi2_freq)\n",
    "print(\"p valeur associée :\", p_value_freq)\n",
    "print(\"Degrés de liberté :\", dof_freq)"
   ]
  },
  {
   "cell_type": "markdown",
   "id": "310f31f6-2d17-4412-b50b-6fbeb21ec36b",
   "metadata": {},
   "source": [
    "Rappels : La valeur de chi carré mesure l'écart entre les fréquences observées et les fréquences attendues sous l'hypothèse nulle. Plus la valeur de chi carré est élevée, plus il est improbable que les différences observées soient dues au hasard.\n",
    "\n",
    "La p-valeur mesure la probabilité d'observer des résultats aussi extrêmes que ceux observés si l'hypothèse nulle (pas de différence entre les groupes) est vraie. Si la p-valeur est inférieure à un seuil prédéfini (généralement 0.05), on rejette l'hypothèse nulle en faveur de l'hypothèse alternative (il y a une différence significative entre les groupes).\n",
    "\n",
    "On conclut en raison des p-valeurs élevées observées qu'il n'y a pas de différence significative entre les groupes en termes de fréquence d'interruption pour les deux tests. Cela signifie que, selon ces tests, il n'y a pas de preuve statistique d'un biais de genre dans les interruptions lors des conférences, en tenant compte des considérations et des tests effectués."
   ]
  },
  {
   "cell_type": "code",
   "execution_count": 217,
   "id": "01363827-09e9-4d57-94fa-c9e44939159d",
   "metadata": {},
   "outputs": [],
   "source": [
    "# Test de Chi_2 pour regarder l influence du genre des gens qui interrompent \n",
    "total_interruptions_femmes = df['Total Interruption Duration (F)'].sum()/df[df['Gender'] == 'F']['Total Talk Duration'].sum()\n",
    "total_interruptions_hommes = df['Total Interruption Duration (M)'].sum()/df[df['Gender'] == 'M']['Total Talk Duration'].sum()\n"
   ]
  },
  {
   "cell_type": "markdown",
   "id": "e3d9cda7-1f4e-4189-8cb4-0c029a4a8613",
   "metadata": {},
   "source": [
    "### Conclusion \n",
    "L'échnatillon étant très petit (encore trop petit après avoir enlevé les Undefined), on ne peut donc pas encore parler d'un vrai test statistique. Quoique, le squelette de ce qu'il faut faire est là il faudra juste l'appliquer une fois on a plus de données. Dans une première approche on s'est pas intéressée au genre de la personne qui interrompt (aussi l'on avait pas cette info sur ce dataset), notre prochaine étape serait de définir le test pour prendre cela en considération"
   ]
  },
  {
   "cell_type": "code",
   "execution_count": 218,
   "id": "7e8f7cfc",
   "metadata": {},
   "outputs": [
    {
     "name": "stdout",
     "output_type": "stream",
     "text": [
      "╒═══════════════════════════╤═══════╤═══════╤═══════╕\n",
      "│ Conférencier/Interrupteur │ Homme │ Femme │ Total │\n",
      "├───────────────────────────┼───────┼───────┼───────┤\n",
      "│ Homme                     │ 6150  │ 2893  │ 9043  │\n",
      "├───────────────────────────┼───────┼───────┼───────┤\n",
      "│ Femme                     │ 1840  │ 1523  │ 3363  │\n",
      "├───────────────────────────┼───────┼───────┼───────┤\n",
      "│ Total                     │ 7990  │ 4416  │ 12406 │\n",
      "╘═══════════════════════════╧═══════╧═══════╧═══════╛\n"
     ]
    }
   ],
   "source": [
    "Interruptions_femmes_aux_femmes = df[df['Gender'] == \"F\"]['Number of Interruptions (F)'].sum()\n",
    "Interruptions_femmes_aux_hommes = df[df['Gender'] == \"M\"]['Number of Interruptions (F)'].sum()\n",
    "Interruptions_hommes_aux_hommes = df[df['Gender'] == \"M\"]['Number of Interruptions (M)'].sum()\n",
    "Interruptions_hommes_aux_femmes = df[df['Gender'] == \"F\"]['Number of Interruptions (M)'].sum()\n",
    "\n",
    "data = [\n",
    "    [\"Conférencier/Interrupteur\", \"Homme\", \"Femme\", \"Total\"],\n",
    "    [\"Homme\", Interruptions_hommes_aux_hommes, Interruptions_femmes_aux_hommes, Interruptions_hommes_aux_hommes + Interruptions_femmes_aux_hommes], \n",
    "    [\"Femme\", Interruptions_hommes_aux_femmes, Interruptions_femmes_aux_femmes, Interruptions_femmes_aux_femmes + Interruptions_hommes_aux_femmes],\n",
    "    [\"Total\", Interruptions_hommes_aux_hommes + Interruptions_hommes_aux_femmes, Interruptions_femmes_aux_hommes + Interruptions_femmes_aux_femmes, Interruptions_hommes_aux_hommes + Interruptions_femmes_aux_hommes + Interruptions_hommes_aux_femmes + Interruptions_femmes_aux_femmes]\n",
    "]\n",
    "\n",
    "# Affichage du tableau\n",
    "print(tabulate(data, headers=[], tablefmt=\"fancy_grid\"))"
   ]
  },
  {
   "cell_type": "markdown",
   "id": "eeed7556",
   "metadata": {},
   "source": [
    "$$\n",
    "\\begin{aligned}\n",
    "& E=\\frac{\\text { row total } \\times \\text { column total }}{n} \\\\\n",
    "& E_{\\text {Men }, \\text { Men }}=\\frac{9043 \\times 7990}{12406}=5824.0827 \\\\\n",
    "& E_{\\text {Men }, \\text { Women }}=\\frac{9043 \\times 4416}{12406}=3218.9173 \\\\\n",
    "& E_{\\text {Women, Men }}=\\frac{3363 \\times 7990}{12406}=2165.9173 \\\\\n",
    "& E_{\\text {Women, Women}}=\\frac{3363 \\times 4416}{12406}=1197.0827\n",
    "\\end{aligned}\n",
    "$$"
   ]
  },
  {
   "cell_type": "code",
   "execution_count": 219,
   "id": "c80aa953",
   "metadata": {},
   "outputs": [
    {
     "name": "stdout",
     "output_type": "stream",
     "text": [
      "╒═══════════════════════════╤════════════════════════╤═══════════════════════╤═══════╕\n",
      "│ Conférencier/Interrupteur │ Homme                  │ Femme                 │ Total │\n",
      "├───────────────────────────┼────────────────────────┼───────────────────────┼───────┤\n",
      "│ Homme                     │ 6150( Exp : 5824.0827) │ 2893(Exp : 3218.9173) │ 9043  │\n",
      "├───────────────────────────┼────────────────────────┼───────────────────────┼───────┤\n",
      "│ Femme                     │ 1840(Exp : 2165.9173)  │ 1523(Exp : 1197.0827) │ 3363  │\n",
      "├───────────────────────────┼────────────────────────┼───────────────────────┼───────┤\n",
      "│ Total                     │ 7990                   │ 4416                  │ 12406 │\n",
      "╘═══════════════════════════╧════════════════════════╧═══════════════════════╧═══════╛\n"
     ]
    }
   ],
   "source": [
    "data = [\n",
    "    [\"Conférencier/Interrupteur\", \"Homme\", \"Femme\", \"Total\"],\n",
    "    [\"Homme\", str(Interruptions_hommes_aux_hommes) + \"( Exp : 5824.0827)\", str(Interruptions_femmes_aux_hommes) + '(Exp : 3218.9173)', Interruptions_hommes_aux_hommes + Interruptions_femmes_aux_hommes], \n",
    "    [\"Femme\", str(Interruptions_hommes_aux_femmes)+\"(Exp : 2165.9173)\", str(Interruptions_femmes_aux_femmes) + '(Exp : 1197.0827)', Interruptions_femmes_aux_femmes + Interruptions_hommes_aux_femmes],\n",
    "    [\"Total\", Interruptions_hommes_aux_hommes + Interruptions_hommes_aux_femmes, Interruptions_femmes_aux_hommes + Interruptions_femmes_aux_femmes, Interruptions_hommes_aux_hommes + Interruptions_femmes_aux_hommes + Interruptions_hommes_aux_femmes + Interruptions_femmes_aux_femmes]\n",
    "]\n",
    "\n",
    "# Affichage du tableau\n",
    "print(tabulate(data, headers=[], tablefmt=\"fancy_grid\"))"
   ]
  },
  {
   "cell_type": "markdown",
   "id": "8ff55b5e",
   "metadata": {},
   "source": []
  },
  {
   "cell_type": "markdown",
   "id": "af7179c4",
   "metadata": {},
   "source": [
    "$$\n",
    "\\begin{aligned}\n",
    "\\chi^2 & =\\sum \\frac{(O-E)^2}{E} \\\\\n",
    "\\chi^2 & =\\frac{(6150-5824.0827)^2}{5824.0827}+\\frac{(2893-3218.9173)^2}{3218.9173}+\\frac{(1840-2165.9173)^2}{2165.9173}+\\frac{(1523-1197.0827)^2}{1197.0827} \\\\\n",
    "\n",
    "\\chi^2 & = 18.24 + 32.99 + 49.04 + 88.73 \n",
    "= 189\n",
    "\\end{aligned}\n",
    "$$\n",
    "\n",
    "Le statistique du test du chi-carré est 189, \n",
    "\n",
    "$$\n",
    "df=(\\text { nombre de lignes }-1)(\\text { nombre de colonnes }-1)=(2-1)(2-1)=1\n",
    "$$\n"
   ]
  },
  {
   "cell_type": "code",
   "execution_count": 220,
   "id": "c19c57c5",
   "metadata": {},
   "outputs": [
    {
     "name": "stdout",
     "output_type": "stream",
     "text": [
      "Le p-value pour une statistique de test du chi-2 de 189.01441051359777 avec 1 degrés de liberté est approximativement: 0.0\n"
     ]
    }
   ],
   "source": [
    "from scipy.stats import chi2\n",
    "\n",
    "# Chi-square test statistic\n",
    "chi2_observed = ((6150 - 5824.0827)**2 / 5824.0827) + ((2893 - 3218.9173)**2 / 3218.9173) + ((1840 - 2165.9173)**2 / 2165.9173) + ((1523 - 1197.0827)**2 / 1197.0827)\n",
    "\n",
    "# Degrees of freedom\n",
    "degrees_f = 1\n",
    "\n",
    "# Calculate p-value\n",
    "p_value = 1 - chi2.cdf(chi2_observed, degrees_f)\n",
    "\n",
    "print(\"Le p-value pour une statistique de test du chi-2 de\", chi2_observed, \"avec\", degrees_f, \"degrés de liberté est approximativement:\", p_value)\n"
   ]
  },
  {
   "cell_type": "markdown",
   "id": "fc3d02bc",
   "metadata": {},
   "source": [
    "### Test du Chi-Carré pour l'Association entre le Genre du Conférencier et le Genre de l'Interrupteur\n",
    "\n",
    "#### Hypothèses :\n",
    "\n",
    "- $H_0$ : Hypothèse Nulle : Il n'y a pas d'association entre le genre du conférencier et le genre de l'interrupteur.\n",
    "- $H_1$ : Hypothèse Alternative : Il y a une association entre le genre du conférencier et le genre de l'interrupteur.\n",
    "\n",
    "#### Méthode :\n",
    "\n",
    "Nous avons utilisé un test du Chi-Carré pour évaluer l'association entre le genre du conférencier et le genre de l'interrupteur. Les données comprennent les fréquences observées de chaque combinaison de genre de conférencier et de genre d'interrupteur.\n",
    "\n",
    "#### Résultats :\n",
    "\n",
    "Nous avons obtenu une statistique de test du Chi-Carré de $\\chi^2 = 189$ avec $df = 1$ (degrés de liberté). La p-valeur associée à ce test est très proche de zéro ($p < 0.001$).\n",
    "\n",
    "#### Conclusion :\n",
    "\n",
    "Étant donné que la p-valeur ($p < 0.001$) est inférieure à notre seuil de signification ($\\alpha = 0.05$), nous rejetons l'hypothèse nulle. Nous concluons donc qu'il existe une association significative entre le genre du conférencier et le genre de l'interrupteur. "
   ]
  },
  {
   "cell_type": "markdown",
   "id": "f279cf17",
   "metadata": {},
   "source": [
    "### Test de Fisher"
   ]
  },
  {
   "cell_type": "markdown",
   "id": "e9d2f89c",
   "metadata": {},
   "source": [
    "Il est à noter que le test du Chi-carré est moins approprié lorsque les fréquences observées sont grandes, car il repose sur l'approximation de la distribution chi-carré par une distribution normale. Cette approximation peut ne pas être valable lorsque les fréquences observées sont grandes.\n",
    "\n",
    "Lorsque les fréquences observées sont grandes, une alternative plus appropriée est le test de Fisher exact, c'est ce à quoi nous allons avoir recours comme dernier test de biais."
   ]
  },
  {
   "cell_type": "markdown",
   "id": "a9d1424e",
   "metadata": {},
   "source": [
    "### Calculs pour le Test Exact de Fisher\n",
    "\n",
    "#### 1. Fréquences Attendues :\n",
    "$$\n",
    "\\begin{aligned}\n",
    "& E_{\\text {Men }, \\text { Men }}=5824.0827 \\\\\n",
    "& E_{\\text {Men }, \\text { Women }}=3218.9173 \\\\\n",
    "& E_{\\text {Women, Men }}=2165.9173 \\\\\n",
    "& E_{\\text {Women, Women}}=1197.0827\n",
    "\\end{aligned}\n",
    "$$\n",
    "#### 2. Odds Ratio :\n",
    "$$\n",
    "\\begin{aligned}\n",
    " Odds Ratio = \\frac{ad}{bc} = \\frac{6150 \\times 1523}{2893 \\times 1840} \\approx 1.067 \n",
    "\\end{aligned}\n",
    "\n",
    "$$\n",
    "#### 3. Test de l'Hypothèse Nulle :\n",
    "\n",
    "Nous utilisons la librairie `scipy.stats` pour effectuer le test exact de Fisher.\n"
   ]
  },
  {
   "cell_type": "code",
   "execution_count": 221,
   "id": "c8945e05",
   "metadata": {},
   "outputs": [
    {
     "name": "stdout",
     "output_type": "stream",
     "text": [
      "Odds Ratio: 1.7595789687251087\n",
      "P-value: 3.795764583982764e-42\n"
     ]
    }
   ],
   "source": [
    "from scipy.stats import fisher_exact\n",
    "\n",
    "# Tableau de contingence\n",
    "table = [[6150, 2893],\n",
    "         [1840, 1523]]\n",
    "\n",
    "odds_ratio, p_value = fisher_exact(table)\n",
    "\n",
    "print(\"Odds Ratio:\", odds_ratio)\n",
    "print(\"P-value:\", p_value)\n"
   ]
  },
  {
   "cell_type": "markdown",
   "id": "940b0a30",
   "metadata": {},
   "source": [
    "#### Conclusion :\n",
    "\n",
    "Là encore, la p-valeur ($p < 0.001$) est inférieure à notre seuil de signification ($\\alpha = 0.05$). Nous concluons donc qu'il existe une association significative entre le genre du conférencier et le genre de l'interrupteur. En d'autres termes, le genre du conférencier semble influencer le genre de l'interrupteur."
   ]
  },
  {
   "cell_type": "code",
   "execution_count": 230,
   "id": "ab773128",
   "metadata": {},
   "outputs": [
    {
     "data": {
      "image/png": "[encoded data removed]",
      "text/plain": [
       "<Figure size 432x288 with 1 Axes>"
      ]
     },
     "metadata": {},
     "output_type": "display_data"
    }
   ],
   "source": [
    "plt.pie([436,173], labels=[\"Conférencier Homme\",\"Conférencière Femme\"], autopct='%1.1f%%')\n",
    "plt.title('Répartition des vidéos par genre du conférencier')\n",
    "plt.show()"
   ]
  },
  {
   "cell_type": "markdown",
   "id": "491ee681",
   "metadata": {},
   "source": []
  }
 ],
 "metadata": {
  "kernelspec": {
   "display_name": "Python 3 (ipykernel)",
   "language": "python",
   "name": "python3"
  },
  "language_info": {
   "codemirror_mode": {
    "name": "ipython",
    "version": 3
   },
   "file_extension": ".py",
   "mimetype": "text/x-python",
   "name": "python",
   "nbconvert_exporter": "python",
   "pygments_lexer": "ipython3",
   "version": "3.11.4"
  }
 },
 "nbformat": 4,
 "nbformat_minor": 5
}
