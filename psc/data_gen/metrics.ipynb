{
 "cells": [
  {
   "cell_type": "code",
   "execution_count": 4,
   "metadata": {},
   "outputs": [],
   "source": [
    "import json\n",
    "\n",
    "def lire_json(path):\n",
    "    with open(path, 'r') as f:\n",
    "        return json.load(f)[\"interruptions\"]\n",
    "\n",
    "def calculer_iou(manuel, auto):\n",
    "    if (manuel[\"genre\"]!=auto[\"genre\"]) : return 0\n",
    "    intersections, unions = 0, 0   \n",
    "    manuel_inter=manuel(\"interruptions\")\n",
    "    auto_inter=auto(\"interruptions\")\n",
    "    for interruption1 in manuel_inter:\n",
    "        debut1, fin1 = interruption1[0], interruption1[1]\n",
    "        inter_temp = 0  \n",
    "        genre1=interruption1[3]\n",
    "        \n",
    "        for interruption2 in auto_inter:\n",
    "            debut2, fin2 = interruption2[0], interruption2[1]\n",
    "            inter_debut = max(debut1, debut2)\n",
    "            inter_fin = min(fin1, fin2)\n",
    "            if inter_debut < inter_fin:  #condition d'existence d'intersection entre deux segments \n",
    "                genre2=interruption2[3]\n",
    "                if (genre1==genre2): inter_temp = inter_temp +(inter_fin - inter_debut)\n",
    "                else :               inter_temp = inter_temp -(inter_fin - inter_debut)\n",
    "        intersections += inter_temp\n",
    "        unions += (fin1 - debut1) \n",
    "\n",
    "  \n",
    "    for interruption2 in auto:\n",
    "        debut2, fin2 = interruption2[0], interruption2[1]\n",
    "        unions += fin2 - debut2  \n",
    "\n",
    "    # Réajustons l'union pour ne pas compter deux fois les intersections\n",
    "    unions -= intersections\n",
    "    #Evitons la division par 0\n",
    "    if unions == 0:\n",
    "        return 1\n",
    "    return (intersections/unions + 1)/2\n",
    "\n",
    "\n",
    "\n"
   ]
  },
  {
   "cell_type": "code",
   "execution_count": 6,
   "metadata": {},
   "outputs": [
    {
     "name": "stdout",
     "output_type": "stream",
     "text": [
      "Score d'Intersection sur Union (IoU): 0.22093023255813954\n"
     ]
    }
   ],
   "source": [
    "id=input(\"entrez l'identifiant de la conférence:\")\n",
    "path1=\"manuel/\"+id+\".json\"\n",
    "path2=\"auto/\"+id+\".json\"\n",
    "manuel = lire_json(path1)\n",
    "auto = lire_json(path2)\n",
    "\n",
    "iou_score = calculer_iou(manuel, auto)\n",
    "print(f\"Score d'Intersection sur Union (IoU): {iou_score}\")\n"
   ]
  },
  {
   "cell_type": "code",
   "execution_count": null,
   "metadata": {},
   "outputs": [],
   "source": []
  },
  {
   "cell_type": "code",
   "execution_count": null,
   "metadata": {},
   "outputs": [],
   "source": []
  },
  {
   "cell_type": "code",
   "execution_count": null,
   "metadata": {},
   "outputs": [],
   "source": []
  }
 ],
 "metadata": {
  "kernelspec": {
   "display_name": "psc2",
   "language": "python",
   "name": "python3"
  },
  "language_info": {
   "codemirror_mode": {
    "name": "ipython",
    "version": 3
   },
   "file_extension": ".py",
   "mimetype": "text/x-python",
   "name": "python",
   "nbconvert_exporter": "python",
   "pygments_lexer": "ipython3",
   "version": "3.11.5"
  }
 },
 "nbformat": 4,
 "nbformat_minor": 2
}
