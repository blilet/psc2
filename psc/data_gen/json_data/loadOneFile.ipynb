{
 "cells": [
  {
   "cell_type": "markdown",
   "id": "31200021-13f2-436b-9f13-73fa9cfde7aa",
   "metadata": {},
   "source": [
    "# Creating JSON from single YouTube download"
   ]
  },
  {
   "cell_type": "code",
   "execution_count": 13,
   "id": "3cb75ff6-49cd-47c0-8141-3b60db8c2a2d",
   "metadata": {
    "tags": []
   },
   "outputs": [
    {
     "name": "stdout",
     "output_type": "stream",
     "text": [
      "1414\n"
     ]
    }
   ],
   "source": [
    "import json\n",
    "from pathlib import Path\n",
    "import os\n",
    "def timestampToSeconds(inter):\n",
    "    L = inter.split(':')\n",
    "    return int(L[0])*3600 + int(L[1])*60 + int(L[2])\n",
    "print(timestampToSeconds('00:23:34'))"
   ]
  },
  {
   "cell_type": "markdown",
   "id": "8abccccd-3df9-4183-b0c4-80f60ed01988",
   "metadata": {},
   "source": [
    "For a YouTube video, we denote 'extract' the code after watch?v in the link. Example:"
   ]
  },
  {
   "cell_type": "raw",
   "id": "fa6092f1-e8ce-4e73-a511-98ff3f265419",
   "metadata": {
    "tags": []
   },
   "source": [
    "https://youtube.com/watch?v=x4RXNO9oaS0 -> extract = x4RXNO9oaS0"
   ]
  },
  {
   "cell_type": "markdown",
   "id": "6a7d1fc0-5573-4ee6-8f05-c348ab5e2003",
   "metadata": {},
   "source": [
    "This is done in order to have unique identifiers for the videos."
   ]
  },
  {
   "cell_type": "code",
   "execution_count": 14,
   "id": "66a21768-5be4-4b07-9398-8f3666cb43c1",
   "metadata": {
    "tags": []
   },
   "outputs": [],
   "source": [
    "pathlink = input('Enter YouTube conference local path and link extract (in the following format /Users/Downloads/conf.wav - x4RXNO9oaS0 ):\\n')\n",
    "L = pathlink.split('-')\n",
    "uuid = L[1]\n",
    "path = L[0]\n"
   ]
  },
  {
   "cell_type": "code",
   "execution_count": 15,
   "id": "ed971150-724f-4898-ad1a-1e03ded4a6e0",
   "metadata": {
    "tags": []
   },
   "outputs": [],
   "source": [
    "p =  \"outputs/\"+uuid+\".json\"\n",
    "path= Path.home() /'outputs'\n",
    "path.mkdir(parents=True, exist_ok=True)\n",
    "exists= os.path.exists(Path.home() /p) \n",
    "if exists:\n",
    "    print('NO NEED TO EXTRACT DATA FROM THIS YOUTUBE VIDEO')"
   ]
  },
  {
   "cell_type": "code",
   "execution_count": 16,
   "id": "16b4df9d-c30c-42af-977c-00a8f516a2d6",
   "metadata": {
    "tags": []
   },
   "outputs": [],
   "source": [
    "gen = input('Enter gender (M/F):\\n')\n",
    "start = input('Enter start of speaker (type 0 if start of file, format: 00:24:22):\\n')\n",
    "end = input('Enter end of speaker (format: 01:24:22):\\n')"
   ]
  },
  {
   "cell_type": "code",
   "execution_count": 18,
   "id": "53486009-d895-437b-9c14-d59ce5ab8ab7",
   "metadata": {
    "tags": []
   },
   "outputs": [
    {
     "name": "stdout",
     "output_type": "stream",
     "text": [
      "======= Interruption 1 (type f to stop)========\n",
      "======= Interruption 2 (type f to stop)========\n",
      "======= Interruption 3 (type f to stop)========\n",
      "Stored in: \n",
      "/Users/timou/outputs/x4R.json\n"
     ]
    }
   ],
   "source": [
    "interruptions = []\n",
    "count = 1\n",
    "buff = \"AA\"\n",
    "while (buff != 'f'):\n",
    "    print(\"======= Interruption \" + str(count) + \" (type f to stop)========\")\n",
    "    buff = input(\"Enter interruption in the following format 01:20:22 - 01:21:30 - M  (M/F) - Y (Y/N si interruption silencieuse):\")\n",
    "    count = count+1\n",
    "    info = buff.split()\n",
    "    try:\n",
    "        interruptions.append((timestampToSeconds(info[0]),timestampToSeconds(info[2]),info[4].upper(), info[6].upper()))\n",
    "    except:\n",
    "        count -=1\n",
    "        continue\n",
    "buff = \"AA\"\n",
    "while (buff != 'f'):\n",
    "    buff = input(\"Do you want to delete an interruption? (loops until typed f to stop)\")\n",
    "    try:\n",
    "        interruptions[int(buff)-1] = ''\n",
    "        count-=1\n",
    "    except:\n",
    "        continue\n",
    "interruptions = list(filter(lambda a: a != '', interruptions))\n",
    "#Creating JSON file in ./outputs/ (change format!)\n",
    "to_JSON = {'path': (path, uuid), 'gender':gen, 'start':int(start), 'end':timestampToSeconds(end), 'num_interruptions':count, 'interruptions':interruptions}\n",
    "json_d = json.dumps(to_JSON, indent = 2)\n",
    "with open(Path.home() /p, 'w') as f:\n",
    "    f.write(json_d)\n",
    "print('Stored in: ')\n",
    "print(Path.home() /p)"
   ]
  },
  {
   "cell_type": "code",
   "execution_count": null,
   "id": "e1ece309-9cb3-48be-b392-3865af918777",
   "metadata": {
    "tags": []
   },
   "outputs": [],
   "source": []
  },
  {
   "cell_type": "code",
   "execution_count": null,
   "id": "51e8ff20-b73d-444a-9c5e-b0aced263b40",
   "metadata": {
    "tags": []
   },
   "outputs": [],
   "source": []
  }
 ],
 "metadata": {
  "kernelspec": {
   "display_name": "Python 3 (ipykernel)",
   "language": "python",
   "name": "python3"
  },
  "language_info": {
   "codemirror_mode": {
    "name": "ipython",
    "version": 3
   },
   "file_extension": ".py",
   "mimetype": "text/x-python",
   "name": "python",
   "nbconvert_exporter": "python",
   "pygments_lexer": "ipython3",
   "version": "3.11.7"
  }
 },
 "nbformat": 4,
 "nbformat_minor": 5
}
