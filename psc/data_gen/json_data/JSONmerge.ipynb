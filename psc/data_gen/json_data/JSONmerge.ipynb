{
 "cells": [
  {
   "cell_type": "markdown",
   "id": "ec5f5957-b2da-4e24-aeeb-f5e074ade560",
   "metadata": {},
   "source": [
    "# JSON Merge"
   ]
  },
  {
   "cell_type": "code",
   "execution_count": 11,
   "id": "97074bfc-a84b-4cbe-87a9-cbb6acfd4003",
   "metadata": {
    "tags": []
   },
   "outputs": [
    {
     "name": "stdout",
     "output_type": "stream",
     "text": [
      "Stored in where ipynb file is.\n"
     ]
    }
   ],
   "source": [
    "import json\n",
    "from pathlib import Path\n",
    "import os\n",
    "path= Path.home() /'outputs'\n",
    "exists= os.path.exists(path)\n",
    "if exists:\n",
    "    # Create an empty list to store the Python objects.\n",
    "    python_objects = []\n",
    "\n",
    "    # Load each JSON file into a Python object.\n",
    "    for json_file in path.iterdir():\n",
    "        with open(json_file, \"r\") as f:\n",
    "            python_objects.append(json.load(f))\n",
    "    # Dump all the Python objects into a single JSON file.\n",
    "    path_output=\"combined.json\"\n",
    "    with open(path_output, \"w\") as f:\n",
    "        json.dump(python_objects, f, indent=4)\n",
    "    print('Stored in where ipynb file is.')\n",
    "else:\n",
    "    print(\"Didn't find any existing json files to merge.\")\n"
   ]
  }
 ],
 "metadata": {
  "kernelspec": {
   "display_name": "Python 3 (ipykernel)",
   "language": "python",
   "name": "python3"
  },
  "language_info": {
   "codemirror_mode": {
    "name": "ipython",
    "version": 3
   },
   "file_extension": ".py",
   "mimetype": "text/x-python",
   "name": "python",
   "nbconvert_exporter": "python",
   "pygments_lexer": "ipython3",
   "version": "3.11.5"
  }
 },
 "nbformat": 4,
 "nbformat_minor": 5
}
