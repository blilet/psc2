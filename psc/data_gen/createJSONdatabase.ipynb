{
 "cells": [
  {
   "cell_type": "code",
   "execution_count": 1,
   "id": "746b3a68",
   "metadata": {},
   "outputs": [
    {
     "name": "stdout",
     "output_type": "stream",
     "text": [
      "Requirement already satisfied: datasets in /Users/timou/anaconda3/envs/psc/lib/python3.11/site-packages (2.16.1)\n",
      "Requirement already satisfied: filelock in /Users/timou/anaconda3/envs/psc/lib/python3.11/site-packages (from datasets) (3.13.1)\n",
      "Requirement already satisfied: numpy>=1.17 in /Users/timou/anaconda3/envs/psc/lib/python3.11/site-packages (from datasets) (1.26.4)\n",
      "Requirement already satisfied: pyarrow>=8.0.0 in /Users/timou/anaconda3/envs/psc/lib/python3.11/site-packages (from datasets) (15.0.0)\n",
      "Requirement already satisfied: pyarrow-hotfix in /Users/timou/anaconda3/envs/psc/lib/python3.11/site-packages (from datasets) (0.6)\n",
      "Requirement already satisfied: dill<0.3.8,>=0.3.0 in /Users/timou/anaconda3/envs/psc/lib/python3.11/site-packages (from datasets) (0.3.7)\n",
      "Requirement already satisfied: pandas in /Users/timou/anaconda3/envs/psc/lib/python3.11/site-packages (from datasets) (2.2.0)\n",
      "Requirement already satisfied: requests>=2.19.0 in /Users/timou/anaconda3/envs/psc/lib/python3.11/site-packages (from datasets) (2.31.0)\n",
      "Requirement already satisfied: tqdm>=4.62.1 in /Users/timou/anaconda3/envs/psc/lib/python3.11/site-packages (from datasets) (4.66.1)\n",
      "Requirement already satisfied: xxhash in /Users/timou/anaconda3/envs/psc/lib/python3.11/site-packages (from datasets) (3.4.1)\n",
      "Requirement already satisfied: multiprocess in /Users/timou/anaconda3/envs/psc/lib/python3.11/site-packages (from datasets) (0.70.15)\n",
      "Requirement already satisfied: fsspec<=2023.10.0,>=2023.1.0 in /Users/timou/anaconda3/envs/psc/lib/python3.11/site-packages (from fsspec[http]<=2023.10.0,>=2023.1.0->datasets) (2023.10.0)\n",
      "Requirement already satisfied: aiohttp in /Users/timou/anaconda3/envs/psc/lib/python3.11/site-packages (from datasets) (3.9.3)\n",
      "Requirement already satisfied: huggingface-hub>=0.19.4 in /Users/timou/anaconda3/envs/psc/lib/python3.11/site-packages (from datasets) (0.20.3)\n",
      "Requirement already satisfied: packaging in /Users/timou/anaconda3/envs/psc/lib/python3.11/site-packages (from datasets) (23.1)\n",
      "Requirement already satisfied: pyyaml>=5.1 in /Users/timou/anaconda3/envs/psc/lib/python3.11/site-packages (from datasets) (6.0.1)\n",
      "Requirement already satisfied: aiosignal>=1.1.2 in /Users/timou/anaconda3/envs/psc/lib/python3.11/site-packages (from aiohttp->datasets) (1.3.1)\n",
      "Requirement already satisfied: attrs>=17.3.0 in /Users/timou/anaconda3/envs/psc/lib/python3.11/site-packages (from aiohttp->datasets) (23.1.0)\n",
      "Requirement already satisfied: frozenlist>=1.1.1 in /Users/timou/anaconda3/envs/psc/lib/python3.11/site-packages (from aiohttp->datasets) (1.4.1)\n",
      "Requirement already satisfied: multidict<7.0,>=4.5 in /Users/timou/anaconda3/envs/psc/lib/python3.11/site-packages (from aiohttp->datasets) (6.0.5)\n",
      "Requirement already satisfied: yarl<2.0,>=1.0 in /Users/timou/anaconda3/envs/psc/lib/python3.11/site-packages (from aiohttp->datasets) (1.9.4)\n",
      "Requirement already satisfied: typing-extensions>=3.7.4.3 in /Users/timou/anaconda3/envs/psc/lib/python3.11/site-packages (from huggingface-hub>=0.19.4->datasets) (4.9.0)\n",
      "Requirement already satisfied: charset-normalizer<4,>=2 in /Users/timou/anaconda3/envs/psc/lib/python3.11/site-packages (from requests>=2.19.0->datasets) (2.0.4)\n",
      "Requirement already satisfied: idna<4,>=2.5 in /Users/timou/anaconda3/envs/psc/lib/python3.11/site-packages (from requests>=2.19.0->datasets) (3.4)\n",
      "Requirement already satisfied: urllib3<3,>=1.21.1 in /Users/timou/anaconda3/envs/psc/lib/python3.11/site-packages (from requests>=2.19.0->datasets) (2.1.0)\n",
      "Requirement already satisfied: certifi>=2017.4.17 in /Users/timou/anaconda3/envs/psc/lib/python3.11/site-packages (from requests>=2.19.0->datasets) (2024.2.2)\n",
      "Requirement already satisfied: python-dateutil>=2.8.2 in /Users/timou/anaconda3/envs/psc/lib/python3.11/site-packages (from pandas->datasets) (2.8.2)\n",
      "Requirement already satisfied: pytz>=2020.1 in /Users/timou/anaconda3/envs/psc/lib/python3.11/site-packages (from pandas->datasets) (2023.3.post1)\n",
      "Requirement already satisfied: tzdata>=2022.7 in /Users/timou/anaconda3/envs/psc/lib/python3.11/site-packages (from pandas->datasets) (2023.4)\n",
      "Requirement already satisfied: six>=1.5 in /Users/timou/anaconda3/envs/psc/lib/python3.11/site-packages (from python-dateutil>=2.8.2->pandas->datasets) (1.16.0)\n",
      "Requirement already satisfied: soundfile in /Users/timou/anaconda3/envs/psc/lib/python3.11/site-packages (0.12.1)\n",
      "Requirement already satisfied: cffi>=1.0 in /Users/timou/anaconda3/envs/psc/lib/python3.11/site-packages (from soundfile) (1.16.0)\n",
      "Requirement already satisfied: pycparser in /Users/timou/anaconda3/envs/psc/lib/python3.11/site-packages (from cffi>=1.0->soundfile) (2.21)\n",
      "Requirement already satisfied: librosa in /Users/timou/anaconda3/envs/psc/lib/python3.11/site-packages (0.10.1)\n",
      "Requirement already satisfied: audioread>=2.1.9 in /Users/timou/anaconda3/envs/psc/lib/python3.11/site-packages (from librosa) (3.0.1)\n",
      "Requirement already satisfied: numpy!=1.22.0,!=1.22.1,!=1.22.2,>=1.20.3 in /Users/timou/anaconda3/envs/psc/lib/python3.11/site-packages (from librosa) (1.26.4)\n",
      "Requirement already satisfied: scipy>=1.2.0 in /Users/timou/anaconda3/envs/psc/lib/python3.11/site-packages (from librosa) (1.12.0)\n",
      "Requirement already satisfied: scikit-learn>=0.20.0 in /Users/timou/anaconda3/envs/psc/lib/python3.11/site-packages (from librosa) (1.4.0)\n",
      "Requirement already satisfied: joblib>=0.14 in /Users/timou/anaconda3/envs/psc/lib/python3.11/site-packages (from librosa) (1.3.2)\n",
      "Requirement already satisfied: decorator>=4.3.0 in /Users/timou/anaconda3/envs/psc/lib/python3.11/site-packages (from librosa) (5.1.1)\n",
      "Requirement already satisfied: numba>=0.51.0 in /Users/timou/anaconda3/envs/psc/lib/python3.11/site-packages (from librosa) (0.59.0)\n",
      "Requirement already satisfied: soundfile>=0.12.1 in /Users/timou/anaconda3/envs/psc/lib/python3.11/site-packages (from librosa) (0.12.1)\n",
      "Requirement already satisfied: pooch>=1.0 in /Users/timou/anaconda3/envs/psc/lib/python3.11/site-packages (from librosa) (1.8.0)\n",
      "Requirement already satisfied: soxr>=0.3.2 in /Users/timou/anaconda3/envs/psc/lib/python3.11/site-packages (from librosa) (0.3.7)\n",
      "Requirement already satisfied: typing-extensions>=4.1.1 in /Users/timou/anaconda3/envs/psc/lib/python3.11/site-packages (from librosa) (4.9.0)\n",
      "Requirement already satisfied: lazy-loader>=0.1 in /Users/timou/anaconda3/envs/psc/lib/python3.11/site-packages (from librosa) (0.3)\n",
      "Requirement already satisfied: msgpack>=1.0 in /Users/timou/anaconda3/envs/psc/lib/python3.11/site-packages (from librosa) (1.0.7)\n",
      "Requirement already satisfied: llvmlite<0.43,>=0.42.0dev0 in /Users/timou/anaconda3/envs/psc/lib/python3.11/site-packages (from numba>=0.51.0->librosa) (0.42.0)\n",
      "Requirement already satisfied: platformdirs>=2.5.0 in /Users/timou/anaconda3/envs/psc/lib/python3.11/site-packages (from pooch>=1.0->librosa) (3.10.0)\n",
      "Requirement already satisfied: packaging>=20.0 in /Users/timou/anaconda3/envs/psc/lib/python3.11/site-packages (from pooch>=1.0->librosa) (23.1)\n",
      "Requirement already satisfied: requests>=2.19.0 in /Users/timou/anaconda3/envs/psc/lib/python3.11/site-packages (from pooch>=1.0->librosa) (2.31.0)\n",
      "Requirement already satisfied: threadpoolctl>=2.0.0 in /Users/timou/anaconda3/envs/psc/lib/python3.11/site-packages (from scikit-learn>=0.20.0->librosa) (3.2.0)\n",
      "Requirement already satisfied: cffi>=1.0 in /Users/timou/anaconda3/envs/psc/lib/python3.11/site-packages (from soundfile>=0.12.1->librosa) (1.16.0)\n",
      "Requirement already satisfied: pycparser in /Users/timou/anaconda3/envs/psc/lib/python3.11/site-packages (from cffi>=1.0->soundfile>=0.12.1->librosa) (2.21)\n",
      "Requirement already satisfied: charset-normalizer<4,>=2 in /Users/timou/anaconda3/envs/psc/lib/python3.11/site-packages (from requests>=2.19.0->pooch>=1.0->librosa) (2.0.4)\n",
      "Requirement already satisfied: idna<4,>=2.5 in /Users/timou/anaconda3/envs/psc/lib/python3.11/site-packages (from requests>=2.19.0->pooch>=1.0->librosa) (3.4)\n",
      "Requirement already satisfied: urllib3<3,>=1.21.1 in /Users/timou/anaconda3/envs/psc/lib/python3.11/site-packages (from requests>=2.19.0->pooch>=1.0->librosa) (2.1.0)\n",
      "Requirement already satisfied: certifi>=2017.4.17 in /Users/timou/anaconda3/envs/psc/lib/python3.11/site-packages (from requests>=2.19.0->pooch>=1.0->librosa) (2024.2.2)\n"
     ]
    },
    {
     "data": {
      "text/plain": [
       "{'tags': ['hide-output']}"
      ]
     },
     "execution_count": 1,
     "metadata": {},
     "output_type": "execute_result"
    }
   ],
   "source": [
    "!pip install datasets\n",
    "!pip install soundfile\n",
    "!pip install librosa\n",
    "\n",
    "\n",
    "{\n",
    "    \"tags\": [\n",
    "        \"hide-output\"\n",
    "    ]\n",
    "}"
   ]
  },
  {
   "cell_type": "code",
   "execution_count": null,
   "id": "7c446941-0db8-4c17-b7e9-6fda0478bd56",
   "metadata": {},
   "outputs": [],
   "source": []
  },
  {
   "cell_type": "code",
   "execution_count": null,
   "id": "e5d332e8",
   "metadata": {},
   "outputs": [],
   "source": [
    "import datasets\n",
    "import json\n",
    "from datasets import load_dataset\n",
    "cv_11 = load_dataset(\"mozilla-foundation/common_voice_11_0\", \"fr\", split='invalidated')\n",
    "cv_11 = cv_11.sort('client_id')\n",
    "cv_11 = cv_11.select([j for j in range(10000)])\n",
    "cv_11 = cv_11.remove_columns(['path', 'sentence', 'up_votes', 'down_votes', 'age', 'accent', 'locale', 'segment'])"
   ]
  },
  {
   "cell_type": "code",
   "execution_count": null,
   "id": "4b118590",
   "metadata": {},
   "outputs": [],
   "source": [
    "from pathlib import Path\n"
   ]
  },
  {
   "cell_type": "code",
   "execution_count": 3,
   "id": "8735ee8c",
   "metadata": {},
   "outputs": [],
   "source": [
    "import numpy as np\n",
    "import numpy.random as rnd\n",
    "import random as rand\n",
    "rnd.seed(0)\n",
    "rand.seed(0)"
   ]
  },
  {
   "cell_type": "code",
   "execution_count": null,
   "id": "c038df19",
   "metadata": {},
   "outputs": [],
   "source": [
    "\n",
    "import os\n",
    "\n",
    "import soundfile as sf\n",
    "import time\n",
    "bande_organise = {}\n",
    "\n",
    "for x in cv_11:\n",
    "    if (x['gender'] == 'male'):\n",
    "        keyx = x['client_id'] + 'M'\n",
    "    else:\n",
    "        keyx = x['client_id'] + 'F'\n",
    "    if  keyx not in bande_organise.keys():\n",
    "        bande_organise[keyx] = [x['audio']]\n",
    "    else:\n",
    "        bande_organise[keyx].append(x['audio'])"
   ]
  },
  {
   "cell_type": "code",
   "execution_count": null,
   "id": "3d577be8",
   "metadata": {},
   "outputs": [],
   "source": [
    "L =  list(bande_organise.keys())"
   ]
  },
  {
   "cell_type": "code",
   "execution_count": null,
   "id": "9b558d5a",
   "metadata": {},
   "outputs": [],
   "source": [
    "main_speaker = {}\n",
    "interruptor = {}\n",
    "for key in L:\n",
    "    if len(bande_organise[key])>30:\n",
    "        main_speaker[key] = bande_organise[key]\n",
    "    elif len(bande_organise[key])>4 and len(bande_organise[key])<10:\n",
    "        interruptor[key] = bande_organise[key]\n",
    "L = list(main_speaker.keys())\n",
    "m = min([len(main_speaker[key]) for key in L])\n",
    "Lint = list(interruptor.keys())\n",
    "l = len(L)\n",
    "lint = len(Lint)"
   ]
  },
  {
   "cell_type": "code",
   "execution_count": null,
   "id": "8722337e",
   "metadata": {},
   "outputs": [],
   "source": []
  },
  {
   "cell_type": "code",
   "execution_count": 39,
   "id": "601307d9",
   "metadata": {},
   "outputs": [
    {
     "data": {
      "text/plain": [
       "{'path': '/Users/timou/.cache/huggingface/datasets/downloads/extracted/5c5cedf3750d077d8aec7bdba2f0a47a4b17d92e8e73992d4f0d3572e70887e1/fr_invalidated_0/common_voice_fr_19712064.mp3',\n",
       " 'array': array([0.00000000e+00, 0.00000000e+00, 0.00000000e+00, ...,\n",
       "        3.62077646e-10, 4.75310291e-10, 1.19993529e-10]),\n",
       " 'sampling_rate': 48000}"
      ]
     },
     "execution_count": 39,
     "metadata": {},
     "output_type": "execute_result"
    }
   ],
   "source": [
    "cv_11[0]['audio']"
   ]
  },
  {
   "cell_type": "code",
   "execution_count": 37,
   "id": "33f2869c",
   "metadata": {},
   "outputs": [
    {
     "name": "stdout",
     "output_type": "stream",
     "text": [
      "0.567828893661499\n"
     ]
    }
   ],
   "source": [
    "start_time=time.time()\n",
    "N = 10\n",
    "out= Path.home() /'outputs'\n",
    "max_interruptions = 5\n",
    "for i in range(N):\n",
    "    flag = True\n",
    "    speaker_1 = int(rnd.uniform(0,l))\n",
    "    speaker_2 = int(rnd.uniform(0,lint))\n",
    "    N_interruptions = int(rnd.uniform(1,max_interruptions))\n",
    "    interruptions = rand.sample(range(m), N_interruptions)\n",
    "    L_aud = []\n",
    "    positions = []\n",
    "    t = 0\n",
    "    path = str(speaker_1)+L[speaker_1][-1] +\"-\"+ str(speaker_2)+Lint[speaker_2][-1] + \"_\"\n",
    "    for k in range(m):\n",
    "        inter = 0\n",
    "        if k not in interruptions:\n",
    "            piste = main_speaker[L[speaker_1]][k]\n",
    "            audio_data= piste['array']\n",
    "            if (int(piste['sampling_rate']) != 48000):\n",
    "                flag =False\n",
    "            L_aud.append(audio_data)\n",
    "            path = path + \"0\"\n",
    "        else:\n",
    "            inter = inter+1\n",
    "            piste = interruptor[Lint[speaker_2]][inter]\n",
    "            audio_data= piste['array']\n",
    "            if (int(piste['sampling_rate']) != 48000):\n",
    "                flag =False\n",
    "            L_aud.append(audio_data)\n",
    "            path = path +\"1\"\n",
    "            positions.append((int(t), int(t+len(audio_data)/float(48000)),Lint[speaker_2][-1], 'N'))\n",
    "        t += len(audio_data)/float(48000)\n",
    "    merged_audio = np.concatenate(L_aud, axis=0)\n",
    "    if flag: \n",
    "        pathaudio  = path + \".wav\"\n",
    "        pathjson = path + '.json'\n",
    "        sf.write(out/pathaudio, merged_audio, 48000)\n",
    "        #Creating JSON file in ./outputs/\n",
    "        to_JSON = {'path': (str(out/pathaudio), '-'), 'gender':L[speaker_1][-1],  'start': 0, 'end': int( len(merged_audio)/float(48000)), 'num_interruptions':N_interruptions, 'interruptions': positions  }\n",
    "        json_d = json.dumps(to_JSON, indent = 2)\n",
    "        with open(out/pathjson, 'w') as f:\n",
    "            f.write(json_d)\n",
    "    else: print('flaaag')    \n",
    "end_time = time.time()\n",
    "print(end_time-start_time)"
   ]
  },
  {
   "cell_type": "code",
   "execution_count": 38,
   "id": "69efe085",
   "metadata": {},
   "outputs": [
    {
     "name": "stdout",
     "output_type": "stream",
     "text": [
      "Stored in where ipynb file is.\n"
     ]
    }
   ],
   "source": [
    "python_objects = []\n",
    "for json_file in out.iterdir():\n",
    "        try:\n",
    "            with open(json_file, \"r\") as f:\n",
    "                python_objects.append(json.load(f))\n",
    "            # Dump all the Python objects into a single JSON file.\n",
    "        except:\n",
    "            1 == 1\n",
    "with open('database.json', \"w\") as f:\n",
    "    json.dump(python_objects, f, indent=4)\n",
    "print('Stored in where ipynb file is.')"
   ]
  },
  {
   "cell_type": "code",
   "execution_count": null,
   "id": "3e33cb42",
   "metadata": {},
   "outputs": [],
   "source": []
  }
 ],
 "metadata": {
  "kernelspec": {
   "display_name": "Python 3 (ipykernel)",
   "language": "python",
   "name": "python3"
  },
  "language_info": {
   "codemirror_mode": {
    "name": "ipython",
    "version": 3
   },
   "file_extension": ".py",
   "mimetype": "text/x-python",
   "name": "python",
   "nbconvert_exporter": "python",
   "pygments_lexer": "ipython3",
   "version": "3.11.7"
  }
 },
 "nbformat": 4,
 "nbformat_minor": 5
}
