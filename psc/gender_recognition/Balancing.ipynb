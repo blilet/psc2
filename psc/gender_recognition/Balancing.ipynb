{
 "cells": [
  {
   "cell_type": "markdown",
   "metadata": {},
   "source": [
    "### PREPROCESSING THE MOZILLA COMMON VOICE"
   ]
  },
  {
   "cell_type": "code",
   "execution_count": null,
   "metadata": {},
   "outputs": [],
   "source": [
    "# Install NumPy\n",
    "%pip install numpy\n",
    "\n",
    "# Install Pandas\n",
    "%pip install pandas\n",
    "\n",
    "# Install tqdm for progress bars\n",
    "%pip install tqdm\n",
    "\n",
    "# Install imbalanced-learn for the imblearn package\n",
    "%pip install imbalanced-learn\n",
    "\n",
    "# Install praat-parselmouth for audio processing\n",
    "%pip install praat-parselmouth"
   ]
  },
  {
   "cell_type": "code",
   "execution_count": 2,
   "metadata": {},
   "outputs": [],
   "source": [
    "# path to the cv-other-train csv file \n",
    "path_training_csv = \"path to the cv-other-train csv file\"\n",
    "\n",
    "# path to the cv-other-train folder\n",
    "path_training = \"path to the cv-other-train folder\" + \"/\"\n",
    "\n",
    "# path to save the balanced data\n",
    "folder_path = \"path to save the balanced data\""
   ]
  },
  {
   "cell_type": "code",
   "execution_count": 3,
   "metadata": {},
   "outputs": [],
   "source": [
    "import numpy as np \n",
    "import pandas as pd \n",
    "import os\n",
    "import tqdm\n",
    "import imblearn\n",
    "from imblearn.over_sampling import RandomUnderSampler"
   ]
  },
  {
   "cell_type": "code",
   "execution_count": 39,
   "metadata": {},
   "outputs": [
    {
     "name": "stdout",
     "output_type": "stream",
     "text": [
      "Total samples: 63253\n",
      "Total male samples: 49398\n",
      "Total female samples: 13855\n",
      "                           filename  gender\n",
      "0  cv-other-train/sample-000000.mp3       1\n",
      "1  cv-other-train/sample-000001.mp3       1\n",
      "3  cv-other-train/sample-000003.mp3       1\n",
      "5  cv-other-train/sample-000005.mp3       1\n",
      "7  cv-other-train/sample-000007.mp3       0\n"
     ]
    }
   ],
   "source": [
    "label2int = {\n",
    "    \"male\": 1,\n",
    "    \"female\": 0\n",
    "}\n",
    "df = pd.read_csv(path_training_csv)\n",
    "df = df[df['gender'].notna()]\n",
    "df = df[df['gender'] != 'other']\n",
    "df = df[[\"filename\", \"gender\"]]\n",
    "# get total samples\n",
    "n_samples = len(df)\n",
    "# get total male samples\n",
    "n_male_samples = len(df[df['gender'] == 'male'])\n",
    "# get total female samples\n",
    "n_female_samples = len(df[df['gender'] == 'female'])\n",
    "print(\"Total samples:\", n_samples)\n",
    "print(\"Total male samples:\", n_male_samples)\n",
    "print(\"Total female samples:\", n_female_samples)\n",
    "df['gender']=df['gender'].apply(lambda x: label2int[x])\n",
    "print(df.head())"
   ]
  },
  {
   "cell_type": "markdown",
   "metadata": {},
   "source": [
    "### UnderSampling"
   ]
  },
  {
   "cell_type": "code",
   "execution_count": 40,
   "metadata": {},
   "outputs": [
    {
     "name": "stdout",
     "output_type": "stream",
     "text": [
      "Males after rebalancing : 13855\n",
      "Females after rebalancing : 13855\n"
     ]
    }
   ],
   "source": [
    "\n",
    "X = df['filename'].values.reshape(-1, 1) \n",
    "y = df['gender'].values\n",
    "rus = RandomUnderSampler()\n",
    "X_rus, y_rus = rus.fit_resample(X, y)\n",
    "df = pd.DataFrame({'filename': X_rus.ravel(), 'gender': y_rus})\n",
    "print(\"Males after rebalancing :\" , np.count_nonzero(y_rus==1))\n",
    "print(\"Females after rebalancing :\" , np.count_nonzero(y_rus==0))\n"
   ]
  },
  {
   "cell_type": "markdown",
   "metadata": {},
   "source": [
    "## Filtering silent audios"
   ]
  },
  {
   "cell_type": "markdown",
   "metadata": {},
   "source": [
    "### Using parselmouth : worked"
   ]
  },
  {
   "cell_type": "code",
   "execution_count": 37,
   "metadata": {},
   "outputs": [
    {
     "name": "stdout",
     "output_type": "stream",
     "text": [
      "True\n"
     ]
    }
   ],
   "source": [
    "import parselmouth\n",
    "\n",
    "def is_audio_silent2(audio_path, silence_threshold=40):\n",
    "    # Load the audio file\n",
    "    sound = parselmouth.Sound(audio_path)\n",
    "\n",
    "    # Measure the intensity\n",
    "    intensity = sound.to_intensity()\n",
    "\n",
    "    # Calculate the mean intensity\n",
    "    mean_intensity = intensity.values.T.mean()\n",
    "\n",
    "    # Determine if the audio is silent\n",
    "    is_silent = mean_intensity < silence_threshold\n",
    "    return is_silent\n",
    "\n",
    "    \n"
   ]
  },
  {
   "cell_type": "code",
   "execution_count": 41,
   "metadata": {},
   "outputs": [
    {
     "name": "stdout",
     "output_type": "stream",
     "text": [
      "                           filename  gender  is silent\n",
      "0  cv-other-train/sample-000007.mp3       0      False\n",
      "1  cv-other-train/sample-000009.mp3       0      False\n",
      "2  cv-other-train/sample-000022.mp3       0      False\n",
      "3  cv-other-train/sample-000041.mp3       0      False\n",
      "4  cv-other-train/sample-000046.mp3       0      False\n",
      "                           filename  gender  is silent\n",
      "0  cv-other-train/sample-000007.mp3       0      False\n",
      "1  cv-other-train/sample-000009.mp3       0      False\n",
      "2  cv-other-train/sample-000022.mp3       0      False\n",
      "3  cv-other-train/sample-000041.mp3       0      False\n",
      "4  cv-other-train/sample-000046.mp3       0      False\n",
      "Total samples: 23183\n",
      "Total male samples: 11599\n",
      "Total female samples: 11584\n"
     ]
    }
   ],
   "source": [
    "df['is silent'] = df['filename'].apply(lambda x: is_audio_silent2(path_training + x))\n",
    "print(df.head())\n",
    "df =df[df['is silent'] == False]\n",
    "print(df.head())\n",
    "n_samples = len(df)\n",
    "# get total male samples\n",
    "n_male_samples = len(df[df['gender'] == 0])\n",
    "# get total female samples\n",
    "n_female_samples = len(df[df['gender'] == 1])\n",
    "print(\"Total samples:\", n_samples)\n",
    "print(\"Total male samples:\", n_male_samples)\n",
    "print(\"Total female samples:\", n_female_samples)\n"
   ]
  },
  {
   "cell_type": "markdown",
   "metadata": {},
   "source": [
    "### Saving the Balanced Data"
   ]
  },
  {
   "cell_type": "code",
   "execution_count": 43,
   "metadata": {},
   "outputs": [],
   "source": [
    "\n",
    "file_name = \"Balanced_data.csv\"\n",
    "full_path = os.path.join(folder_path, file_name)"
   ]
  }
 ],
 "metadata": {
  "kernelspec": {
   "display_name": "tf",
   "language": "python",
   "name": "python3"
  },
  "language_info": {
   "codemirror_mode": {
    "name": "ipython",
    "version": 3
   },
   "file_extension": ".py",
   "mimetype": "text/x-python",
   "name": "python",
   "nbconvert_exporter": "python",
   "pygments_lexer": "ipython3",
   "version": "3.11.5"
  },
  "orig_nbformat": 4
 },
 "nbformat": 4,
 "nbformat_minor": 2
}
